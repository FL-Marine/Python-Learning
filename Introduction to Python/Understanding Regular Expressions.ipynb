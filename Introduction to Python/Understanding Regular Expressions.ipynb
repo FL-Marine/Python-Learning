{
 "cells": [
  {
   "cell_type": "markdown",
   "id": "e7e9db08",
   "metadata": {},
   "source": [
    "# Extracomg Information Using Regular Expressions (RegEx)\n",
    "\n",
    "**r** expression is used to create a raw string. Python raw string treats backslash(\\) as a literal character."
   ]
  },
  {
   "cell_type": "code",
   "execution_count": 1,
   "id": "6b26ec5d",
   "metadata": {},
   "outputs": [
    {
     "name": "stdout",
     "output_type": "stream",
     "text": [
      "string: C:\\desktop\n",
      "athan\n"
     ]
    }
   ],
   "source": [
    "# normal string vs raw string\n",
    "path = \"C:\\desktop\\nathan\" #string\n",
    "print(\"string:\",path)"
   ]
  },
  {
   "cell_type": "code",
   "execution_count": 2,
   "id": "a7a69a23",
   "metadata": {},
   "outputs": [
    {
     "name": "stdout",
     "output_type": "stream",
     "text": [
      "raw string: C:\\desktop\\nathan\n"
     ]
    }
   ],
   "source": [
    "path = r\"C:\\desktop\\nathan\" # raw string\n",
    "print(\"raw string:\",path)"
   ]
  },
  {
   "cell_type": "markdown",
   "id": "0a974211",
   "metadata": {},
   "source": [
    "It is always recommended to use raw strings while dealing with regex\n",
    "\n",
    "Python has built-in module to work with regex called **re**.\n",
    "\n",
    "Commonly used methods:\n",
    "    1. re.match()\n",
    "    2. re.search()\n",
    "    3. re.findall()"
   ]
  },
  {
   "cell_type": "code",
   "execution_count": 3,
   "id": "f4a7b00f",
   "metadata": {},
   "outputs": [
    {
     "name": "stdout",
     "output_type": "stream",
     "text": [
      "<re.Match object; span=(0, 9), match='Analytics'>\n",
      "None\n"
     ]
    }
   ],
   "source": [
    "#  1. re.match()\n",
    "# returns a match object on success and none on failure\n",
    "\n",
    "import re\n",
    "\n",
    "# match a word at the beginning of a string\n",
    "\n",
    "result = re.match('Analytics', r'Analytics Vidhya is the largest data science community of India')\n",
    "print(result)\n",
    "\n",
    "result_2 = re.match('largest', r'Analytics Vidhya is the largest data science community of India')\n",
    "print(result_2)\n"
   ]
  },
  {
   "cell_type": "code",
   "execution_count": 4,
   "id": "e552a0ba",
   "metadata": {},
   "outputs": [
    {
     "name": "stdout",
     "output_type": "stream",
     "text": [
      "Analytics\n"
     ]
    }
   ],
   "source": [
    "# since output of re.match is an object must use grounp() function to get the matched expression\n",
    "print(result.group())"
   ]
  },
  {
   "cell_type": "code",
   "execution_count": 5,
   "id": "d4a5076c",
   "metadata": {},
   "outputs": [
    {
     "name": "stdout",
     "output_type": "stream",
     "text": [
      "founded\n"
     ]
    }
   ],
   "source": [
    "# 2. re.search()\n",
    "# matches the single occurence of a pattern in the entire string\n",
    "\n",
    "# search for the pattern \"founded\" in a given string\n",
    "result = re.search('founded', r'Andrew NG founded Coursera. He also founded deeplearning.ai')\n",
    "print(result.group())"
   ]
  },
  {
   "cell_type": "code",
   "execution_count": 8,
   "id": "56cd6e65",
   "metadata": {},
   "outputs": [
    {
     "name": "stdout",
     "output_type": "stream",
     "text": [
      "['founded', 'founded']\n"
     ]
    }
   ],
   "source": [
    "#  3. re.findall()\n",
    "# returns all the occureneces of the pattern from the string. always recommended to use re.findal() always as it can work\n",
    "# both re.search() and re.match()\n",
    "\n",
    "result = re.findall('founded', r'Andrew NG founded Coursera. He also founded deeplearning.ai')\n",
    "print(result)"
   ]
  },
  {
   "cell_type": "markdown",
   "id": "2a8d8681",
   "metadata": {},
   "source": [
    "## Special sequences \n",
    "\n",
    "These are used to extract different kinds of information from a given text.\n"
   ]
  },
  {
   "cell_type": "code",
   "execution_count": 13,
   "id": "e95e2247",
   "metadata": {},
   "outputs": [
    {
     "name": "stdout",
     "output_type": "stream",
     "text": [
      "['est']\n"
     ]
    }
   ],
   "source": [
    "# 1. \\b returns a match where the specified pattern is at the end of a word\n",
    "\n",
    "str = r'Analytics Vidhya is the largest Analytics Community in India'\n",
    "\n",
    "# check if there is any word that ends with \"est\"\n",
    "x=re.findall(r\"est\\b\",str)\n",
    "print(x)"
   ]
  },
  {
   "cell_type": "code",
   "execution_count": 16,
   "id": "41f3c397",
   "metadata": {},
   "outputs": [
    {
     "name": "stdout",
     "output_type": "stream",
     "text": [
      "['2', '1', '9']\n",
      "Yes, there at least once match!\n"
     ]
    }
   ],
   "source": [
    "# 2. \\d returns a match where string contains digits(numbers from 0-9)\n",
    "\n",
    "str = \"2 million monthly visits in Jan'19.\"\n",
    "\n",
    "# check if string contains any digits (numbers from 0-9):\n",
    "x = re.findall(\"\\d\", str)\n",
    "\n",
    "print(x)\n",
    "\n",
    "if(x):\n",
    "    print(\"Yes, there at least once match!\")\n",
    "else:\n",
    "    print(\"No Match\")\n",
    "# need to comnbine 1,9 into 19"
   ]
  },
  {
   "cell_type": "code",
   "execution_count": 17,
   "id": "12c9aef0",
   "metadata": {},
   "outputs": [
    {
     "name": "stdout",
     "output_type": "stream",
     "text": [
      "['2', '19']\n",
      "Yes, there at least once match!\n"
     ]
    }
   ],
   "source": [
    "str = \"2 million monthly visits in Jan'19.\"\n",
    "\n",
    "# check if string contains any digits (numbers from 0-9):\n",
    "# adding '+' sign after'\\d' will continue to extract digits until it encounters a space\n",
    "x = re.findall(\"\\d+\", str)\n",
    "\n",
    "print(x)\n",
    "\n",
    "if(x):\n",
    "    print(\"Yes, there at least once match!\")\n",
    "else:\n",
    "    print(\"No Match\")"
   ]
  },
  {
   "cell_type": "code",
   "execution_count": 18,
   "id": "76aed3e1",
   "metadata": {},
   "outputs": [
    {
     "name": "stdout",
     "output_type": "stream",
     "text": [
      "[' ', 'm', 'i', 'l', 'l', 'i', 'o', 'n', ' ', 'm', 'o', 'n', 't', 'h', 'l', 'y', ' ', 'v', 'i', 's', 'i', 't', 's', ' ', 'i', 'n', ' ', 'J', 'a', 'n', \"'\", '.']\n",
      "Yes, there at least once match!\n"
     ]
    }
   ],
   "source": [
    "# 3. \\D returns a match where the string does not contain any digit\n",
    "\n",
    "str = \"2 million monthly visits in Jan'19.\"\n",
    "\n",
    "# check if string contains any digits (numbers from 0-9):\n",
    "x = re.findall(\"\\D\", str)\n",
    "\n",
    "print(x)\n",
    "\n",
    "if(x):\n",
    "    print(\"Yes, there at least once match!\")\n",
    "else:\n",
    "    print(\"No Match\")\n",
    "# need to put all of the output together"
   ]
  },
  {
   "cell_type": "code",
   "execution_count": 23,
   "id": "c30ee10d",
   "metadata": {},
   "outputs": [
    {
     "name": "stdout",
     "output_type": "stream",
     "text": [
      "[\" million monthly visits'\"]\n",
      "Yes, there at least once match!\n"
     ]
    }
   ],
   "source": [
    "str = \"2 million monthly visits'19\"\n",
    "\n",
    "# check if string contains any digits (numbers from 0-9):\n",
    "x = re.findall(\"\\D+\", str)\n",
    "\n",
    "print(x)\n",
    "\n",
    "if(x):\n",
    "    print(\"Yes, there at least once match!\")\n",
    "else:\n",
    "    print(\"No Match\")"
   ]
  },
  {
   "cell_type": "code",
   "execution_count": null,
   "id": "ad1b4ffe",
   "metadata": {},
   "outputs": [],
   "source": [
    "# 4. \\w helps in extraction of alphanumeric characters only (characters from a to Z, digits from 0-9, \n",
    "# and the underscore_character)\n"
   ]
  },
  {
   "cell_type": "code",
   "execution_count": 24,
   "id": "90dee596",
   "metadata": {},
   "outputs": [
    {
     "name": "stdout",
     "output_type": "stream",
     "text": [
      "['2', 'm', 'i', 'l', 'l', 'i', 'o', 'n', 'm', 'o', 'n', 't', 'h', 'l', 'y', '_', 'v', 'i', 's', 'i', 't', 's']\n",
      "Yes, there at least once match!\n"
     ]
    }
   ],
   "source": [
    "str = \"2 million monthly_visits!\"\n",
    "\n",
    "# returns a match at every word character (characters from a to Z, digits from 0-9, and the underscore_character)\n",
    "x = re.findall(\"\\w\",str)\n",
    "\n",
    "print(x)\n",
    "\n",
    "if(x):\n",
    "    print(\"Yes, there at least once match!\")\n",
    "else:\n",
    "    print(\"No Match\")\n",
    "# add a + sigh to bring letters together"
   ]
  },
  {
   "cell_type": "code",
   "execution_count": 25,
   "id": "b7b1e741",
   "metadata": {},
   "outputs": [
    {
     "name": "stdout",
     "output_type": "stream",
     "text": [
      "['2', 'million', 'monthly_visits']\n",
      "Yes, there at least once match!\n"
     ]
    }
   ],
   "source": [
    "str = \"2 million monthly_visits!\"\n",
    "\n",
    "# returns a match at every word character (characters from a to Z, digits from 0-9, and the underscore_character)\n",
    "x = re.findall(\"\\w+\",str)\n",
    "\n",
    "print(x)\n",
    "\n",
    "if(x):\n",
    "    print(\"Yes, there at least once match!\")\n",
    "else:\n",
    "     print(\"No Match\")"
   ]
  },
  {
   "cell_type": "code",
   "execution_count": 26,
   "id": "c7153378",
   "metadata": {},
   "outputs": [
    {
     "name": "stdout",
     "output_type": "stream",
     "text": [
      "[' ', ' ', ' ', '!']\n",
      "Yes, there at least once match!\n"
     ]
    }
   ],
   "source": [
    "# 5. \\W returns a match at every non alphanumeric character\n",
    "\n",
    "str = \"2 million monthly visits9!\"\n",
    "\n",
    "# returns a match at every NON word character (character NOT between a and Z. Like \"!\", \"?\" white-space etc.):\n",
    "x = re.findall(\"\\W\",str)\n",
    "\n",
    "print(x)\n",
    "\n",
    "if(x):\n",
    "    print(\"Yes, there at least once match!\")\n",
    "else:\n",
    "     print(\"No Match\")"
   ]
  },
  {
   "cell_type": "markdown",
   "id": "edca34fb",
   "metadata": {},
   "source": [
    "# Metacharacters\n",
    "\n",
    "Are characters with special meaning"
   ]
  },
  {
   "cell_type": "code",
   "execution_count": 28,
   "id": "e1d68682",
   "metadata": {},
   "outputs": [
    {
     "name": "stdout",
     "output_type": "stream",
     "text": [
      "['roh', 'roh']\n",
      "['rohan', 'rohit']\n"
     ]
    }
   ],
   "source": [
    "# 1. (.) matches any character (except newline character)\n",
    "\n",
    "str = \"rohan and rohit recently published a research paper!\"\n",
    "\n",
    "# search for a string that starts with \"ro\", followed by a certain number of characters\n",
    "\n",
    "x = re.findall(\"ro.\", str)\n",
    "x2 = re.findall(\"ro...\", str)\n",
    "\n",
    "print(x)\n",
    "print(x2)"
   ]
  },
  {
   "cell_type": "code",
   "execution_count": 29,
   "id": "45d3d7a2",
   "metadata": {},
   "outputs": [
    {
     "name": "stdout",
     "output_type": "stream",
     "text": [
      "Yes, the string starts with 'Data'\n"
     ]
    }
   ],
   "source": [
    "# 2 (^) starts with given pattern\n",
    "\n",
    "str = \"Data Science\"\n",
    "\n",
    "# Check if the string starts with 'Data':\n",
    "x = re.findall(\"^Data\", str)\n",
    "\n",
    "if (x):\n",
    "    print(\"Yes, the string starts with 'Data'\")\n",
    "else:\n",
    "    print(\"No Match\")\n"
   ]
  },
  {
   "cell_type": "code",
   "execution_count": 32,
   "id": "8dbe609a",
   "metadata": {},
   "outputs": [
    {
     "name": "stdout",
     "output_type": "stream",
     "text": [
      "Yes, the string starts with 'data'\n",
      "['Big']\n"
     ]
    }
   ],
   "source": [
    "# try with different string\n",
    "\n",
    "str2 = \"Big Data\"\n",
    "\n",
    "# Check if the string starts with 'Data':\n",
    "x2 = re.findall(\"^Big\", str2)\n",
    "\n",
    "if(x2):\n",
    "    print(\"Yes, the string starts with 'data'\")\n",
    "else:\n",
    "    print(\"No match\")\n",
    "print(x2)"
   ]
  },
  {
   "cell_type": "code",
   "execution_count": 34,
   "id": "e9de1d8d",
   "metadata": {},
   "outputs": [
    {
     "name": "stdout",
     "output_type": "stream",
     "text": [
      "Yes, the string starts with 'Science'\n",
      "['Science']\n"
     ]
    }
   ],
   "source": [
    "# 3. ($) string ends with given pattern\n",
    "\n",
    "str = \"Data Science\"\n",
    "\n",
    "# Check if the string ends with 'Science':\n",
    "\n",
    "x = re.findall(\"Science$\", str)\n",
    "\n",
    "if(x):\n",
    "    print(\"Yes, the string starts with 'Science'\")\n",
    "else:\n",
    "    print(\"No match\")\n",
    "print(x)"
   ]
  },
  {
   "cell_type": "code",
   "execution_count": 36,
   "id": "cb9b0e7f",
   "metadata": {},
   "outputs": [
    {
     "name": "stdout",
     "output_type": "stream",
     "text": [
      "Yes, there is at least one match!\n",
      "['easy', 'easssy', 'eay']\n"
     ]
    }
   ],
   "source": [
    "# 4. (*) matches for zero or more occurences of the pattern to the left of it\n",
    "str = \"easy easssy eay ey\"\n",
    "\n",
    "# Check if the string contains \"ea\" following by 0 or more \"s\" characters ending with y\n",
    "x = re.findall(\"eas*y\", str)\n",
    "\n",
    "if(x):\n",
    "    print(\"Yes, there is at least one match!\")\n",
    "else:\n",
    "    print(\"No match\")\n",
    "print(x)"
   ]
  },
  {
   "cell_type": "code",
   "execution_count": 37,
   "id": "d6baef15",
   "metadata": {},
   "outputs": [
    {
     "name": "stdout",
     "output_type": "stream",
     "text": [
      "Yes, there is at least one match!\n",
      "['easy', 'easssy']\n"
     ]
    }
   ],
   "source": [
    "# 5. (+) matches one or more occureces of the pattern to the left of it\n",
    "\n",
    "str = \"easy easssy eay ey\"\n",
    "\n",
    "# Check if the string contains \"ea\" following by 1 or more \"s\" characters ending with y\n",
    "x = re.findall(\"eas+y\", str)\n",
    "\n",
    "if(x):\n",
    "    print(\"Yes, there is at least one match!\")\n",
    "else:\n",
    "    print(\"No match\")\n",
    "print(x)"
   ]
  },
  {
   "cell_type": "code",
   "execution_count": 38,
   "id": "5228bcd1",
   "metadata": {},
   "outputs": [
    {
     "name": "stdout",
     "output_type": "stream",
     "text": [
      "Yes, there is at least one match!\n",
      "['easy', 'eay']\n"
     ]
    }
   ],
   "source": [
    "# 6. (?) matches zero or once occurence of the pattern to the left of it\n",
    "\n",
    "str = \"easy easssy eay ey\"\n",
    "\n",
    "x = re.findall(\"eas?y\", str)\n",
    "\n",
    "if(x):\n",
    "    print(\"Yes, there is at least one match!\")\n",
    "else:\n",
    "    print(\"No match\")\n",
    "print(x)"
   ]
  },
  {
   "cell_type": "code",
   "execution_count": 40,
   "id": "bff8c817",
   "metadata": {},
   "outputs": [
    {
     "name": "stdout",
     "output_type": "stream",
     "text": [
      "Yes, there is at least one match!\n",
      "['India']\n"
     ]
    }
   ],
   "source": [
    "# 7. \"|\" pipe operation either or\n",
    "\n",
    "str = 'Analytics Vidhya is the largest Analytics Community in India'\n",
    "\n",
    "# check if the string contains either \"data or India\":\n",
    "\n",
    "x = re.findall(\"data|India\", str)\n",
    "\n",
    "if(x):\n",
    "    print(\"Yes, there is at least one match!\")\n",
    "else:\n",
    "    print(\"No match\")\n",
    "print(x)"
   ]
  },
  {
   "cell_type": "code",
   "execution_count": 42,
   "id": "363811e7",
   "metadata": {},
   "outputs": [
    {
     "name": "stdout",
     "output_type": "stream",
     "text": [
      "Yes, there is at least one match!\n",
      "['data']\n"
     ]
    }
   ],
   "source": [
    "# try with different string\n",
    "\n",
    "str = 'Analytics Vidhya is the largest data science communitites'\n",
    "\n",
    "# check if the string contains either \"data or India\":\n",
    "\n",
    "x = re.findall(\"data|India\", str)\n",
    "\n",
    "if(x):\n",
    "    print(\"Yes, there is at least one match!\")\n",
    "else:\n",
    "    print(\"No match\")\n",
    "print(x)"
   ]
  },
  {
   "cell_type": "markdown",
   "id": "1a1d801a",
   "metadata": {},
   "source": [
    "# Set\n",
    "A set is a bunch of characters inside a pair of square brackets[]."
   ]
  },
  {
   "cell_type": "code",
   "execution_count": 45,
   "id": "0284d895",
   "metadata": {},
   "outputs": [
    {
     "name": "stdout",
     "output_type": "stream",
     "text": [
      "Yes, there is at least one match!\n",
      "['y', 'd', 'h', 'y', 'h', 'd', 'y', 'd']\n"
     ]
    }
   ],
   "source": [
    "str = 'Analytics Vidhya is the largest data science community of India'\n",
    "\n",
    "# check for the characters y, d, or h, in the above string\n",
    "\n",
    "x = re.findall(\"[ydh]\", str)\n",
    "\n",
    "if(x):\n",
    "    print(\"Yes, there is at least one match!\")\n",
    "else:\n",
    "    print(\"No match\")\n",
    "print(x)"
   ]
  },
  {
   "cell_type": "code",
   "execution_count": 46,
   "id": "fac48708",
   "metadata": {},
   "outputs": [
    {
     "name": "stdout",
     "output_type": "stream",
     "text": [
      "Yes, there is at least one match!\n",
      "['a', 'c', 'd', 'a', 'e', 'a', 'g', 'e', 'd', 'a', 'a', 'c', 'e', 'c', 'e', 'c', 'f', 'd', 'a']\n"
     ]
    }
   ],
   "source": [
    "str = 'Analytics Vidhya is the largest data science community of India'\n",
    "\n",
    "# check for the characters between a and g (range) in the above string\n",
    "x = re.findall(\"[a-g]\", str)\n",
    "\n",
    "if(x):\n",
    "    print(\"Yes, there is at least one match!\")\n",
    "else:\n",
    "    print(\"No match\")\n",
    "print(x)"
   ]
  },
  {
   "cell_type": "markdown",
   "id": "b3a3204c",
   "metadata": {},
   "source": [
    "#### Lets solve a problem."
   ]
  },
  {
   "cell_type": "code",
   "execution_count": 48,
   "id": "4c83ba90",
   "metadata": {},
   "outputs": [
    {
     "name": "stdout",
     "output_type": "stream",
     "text": [
      "Yes, there is at least one match!\n",
      "['687']\n"
     ]
    }
   ],
   "source": [
    "str = \"Mars'average distance from the Sun is roughly 230 million km and its orbital period is 687 (Earth) days.\"\n",
    "\n",
    "# extract the numbers starting with 0 to 4 from the above string\n",
    "x = re.findall(r\"[5-9]\\d+\",str)\n",
    "if(x):\n",
    "    print(\"Yes, there is at least one match!\")\n",
    "else:\n",
    "    print(\"No match\")\n",
    "print(x)"
   ]
  },
  {
   "cell_type": "code",
   "execution_count": 49,
   "id": "b5aef1c5",
   "metadata": {},
   "outputs": [
    {
     "name": "stdout",
     "output_type": "stream",
     "text": [
      "Yes, there is at least one match!\n",
      "['A', 'n', 'a', 'l', 't', 'i', 'c', 's', ' ', 'V', 'i', 'a', ' ', 'i', 's', ' ', 't', 'e', ' ', 'l', 'a', 'r', 'g', 'e', 's', 't', ' ', 'a', 't', 'a', ' ', 's', 'c', 'i', 'e', 'n', 'c', 'e', ' ', 'c', 'o', 'm', 'm', 'u', 'n', 'i', 't', ' ', 'o', 'f', ' ', 'I', 'n', 'i', 'a']\n"
     ]
    }
   ],
   "source": [
    "# [^] check whether string has other characters mentioned after ^\n",
    "\n",
    "str = 'Analytics Vidhya is the largest data science community of India'\n",
    "\n",
    "# check if there are other characters besides y, d, or h\n",
    "x = re.findall(\"[^ydh]\", str)\n",
    "\n",
    "if(x):\n",
    "    print(\"Yes, there is at least one match!\")\n",
    "else:\n",
    "    print(\"No match\")\n",
    "print(x)"
   ]
  },
  {
   "cell_type": "code",
   "execution_count": 54,
   "id": "3b3e54bf",
   "metadata": {},
   "outputs": [
    {
     "name": "stdout",
     "output_type": "stream",
     "text": [
      "['@AV', '#AV']\n"
     ]
    }
   ],
   "source": [
    "# [a-zA-Z0-9] check whether string has terms starting with characters other than alphamuneric\n",
    "\n",
    "str = \"@AV Largest Data Science community #AV!!\"\n",
    "\n",
    "# extract words that start with special character\n",
    "x = re.findall(\"[^a-zA-Z0-9 ]\\w+\", str)\n",
    "\n",
    "print(x)"
   ]
  },
  {
   "cell_type": "markdown",
   "id": "8d682b6e",
   "metadata": {},
   "source": [
    "# Solove complex queries\n",
    "\n",
    "### Extracting Email IDs"
   ]
  },
  {
   "cell_type": "code",
   "execution_count": 58,
   "id": "96c9edf1",
   "metadata": {},
   "outputs": [
    {
     "name": "stdout",
     "output_type": "stream",
     "text": [
      "['rohan.1997@gmail.com', 'smith_david34@yahoo.com', 'priya@yahoo.com']\n"
     ]
    }
   ],
   "source": [
    "str = 'Send a email to rohan.1997@gmail.com, smith_david34@yahoo.com and priya@yahoo.com about the meeting @2PM'\n",
    "\n",
    "# \\w matches any alpha numberic character\n",
    "# + for repeats a character one or more times\n",
    "# x = re.findall('\\w+@\\w.com', str)\n",
    "x = re.findall('[a-zA-Z0-9._-]+@\\w+\\.com', str)\n",
    "               \n",
    "print(x)"
   ]
  },
  {
   "cell_type": "markdown",
   "id": "9b184f2d",
   "metadata": {},
   "source": [
    "### Extracting Dates"
   ]
  },
  {
   "cell_type": "code",
   "execution_count": 60,
   "id": "0c9455b0",
   "metadata": {},
   "outputs": [
    {
     "name": "stdout",
     "output_type": "stream",
     "text": [
      "['2012-07-27', '2012/08/12']\n"
     ]
    }
   ],
   "source": [
    "text = \"London Olympic 2012 was held from 2012-07-27 to 2012/08/12.\"\n",
    "\n",
    "# '\\{4}' repeats '\\d' 4 times\n",
    "match = re.findall('\\d{4}.\\d{2}.\\d{2}', text) \n",
    "print(match)"
   ]
  },
  {
   "cell_type": "code",
   "execution_count": 62,
   "id": "b2b7b026",
   "metadata": {},
   "outputs": [
    {
     "name": "stdout",
     "output_type": "stream",
     "text": [
      "['27 Jul 2012', '12-Aug-2012']\n"
     ]
    }
   ],
   "source": [
    "text = \"London Olympic 2012 was held from 27 Jul 2012 to 12-Aug-2012.\"\n",
    "\n",
    "# '\\{4}' repeats '\\d' 4 times\n",
    "match = re.findall('\\d{2}.\\w{3}.\\d{4}', text) \n",
    "print(match)"
   ]
  },
  {
   "cell_type": "code",
   "execution_count": 63,
   "id": "414c1882",
   "metadata": {},
   "outputs": [
    {
     "name": "stdout",
     "output_type": "stream",
     "text": [
      "['27 September 2012', '12 August 2012']\n"
     ]
    }
   ],
   "source": [
    "#extracting dates with varying lengths\n",
    "text = \"London Olympic 2012 was held from 27 September 2012 to 12 August 2012.\"\n",
    "\n",
    "# '\\w3,10}' repeats '\\w' 3 to 10 times\n",
    "match = re.findall('\\d{2}.\\w{3,10}.\\d{4}', text)\n",
    "print(match)"
   ]
  },
  {
   "cell_type": "code",
   "execution_count": 76,
   "id": "d099ff53",
   "metadata": {},
   "outputs": [],
   "source": [
    "# Extracting title from names - Titance Dataset\n",
    "import pandas as pd\n",
    "\n",
    "#load dataset\n",
    "data=pd.read_csv(\"titanic.csv\")"
   ]
  },
  {
   "cell_type": "code",
   "execution_count": 77,
   "id": "18cdc495",
   "metadata": {},
   "outputs": [
    {
     "data": {
      "text/html": [
       "<div>\n",
       "<style scoped>\n",
       "    .dataframe tbody tr th:only-of-type {\n",
       "        vertical-align: middle;\n",
       "    }\n",
       "\n",
       "    .dataframe tbody tr th {\n",
       "        vertical-align: top;\n",
       "    }\n",
       "\n",
       "    .dataframe thead th {\n",
       "        text-align: right;\n",
       "    }\n",
       "</style>\n",
       "<table border=\"1\" class=\"dataframe\">\n",
       "  <thead>\n",
       "    <tr style=\"text-align: right;\">\n",
       "      <th></th>\n",
       "      <th>PassengerId</th>\n",
       "      <th>Survived</th>\n",
       "      <th>Pclass</th>\n",
       "      <th>Name</th>\n",
       "      <th>Sex</th>\n",
       "      <th>Age</th>\n",
       "      <th>SibSp</th>\n",
       "      <th>Parch</th>\n",
       "      <th>Ticket</th>\n",
       "      <th>Fare</th>\n",
       "      <th>Cabin</th>\n",
       "      <th>Embarked</th>\n",
       "    </tr>\n",
       "  </thead>\n",
       "  <tbody>\n",
       "    <tr>\n",
       "      <th>0</th>\n",
       "      <td>1</td>\n",
       "      <td>0</td>\n",
       "      <td>3</td>\n",
       "      <td>Braund, Mr. Owen Harris</td>\n",
       "      <td>male</td>\n",
       "      <td>22.0</td>\n",
       "      <td>1</td>\n",
       "      <td>0</td>\n",
       "      <td>A/5 21171</td>\n",
       "      <td>7.2500</td>\n",
       "      <td>NaN</td>\n",
       "      <td>S</td>\n",
       "    </tr>\n",
       "    <tr>\n",
       "      <th>1</th>\n",
       "      <td>2</td>\n",
       "      <td>1</td>\n",
       "      <td>1</td>\n",
       "      <td>Cumings, Mrs. John Bradley (Florence Briggs Th...</td>\n",
       "      <td>female</td>\n",
       "      <td>38.0</td>\n",
       "      <td>1</td>\n",
       "      <td>0</td>\n",
       "      <td>PC 17599</td>\n",
       "      <td>71.2833</td>\n",
       "      <td>C85</td>\n",
       "      <td>C</td>\n",
       "    </tr>\n",
       "    <tr>\n",
       "      <th>2</th>\n",
       "      <td>3</td>\n",
       "      <td>1</td>\n",
       "      <td>3</td>\n",
       "      <td>Heikkinen, Miss. Laina</td>\n",
       "      <td>female</td>\n",
       "      <td>26.0</td>\n",
       "      <td>0</td>\n",
       "      <td>0</td>\n",
       "      <td>STON/O2. 3101282</td>\n",
       "      <td>7.9250</td>\n",
       "      <td>NaN</td>\n",
       "      <td>S</td>\n",
       "    </tr>\n",
       "    <tr>\n",
       "      <th>3</th>\n",
       "      <td>4</td>\n",
       "      <td>1</td>\n",
       "      <td>1</td>\n",
       "      <td>Futrelle, Mrs. Jacques Heath (Lily May Peel)</td>\n",
       "      <td>female</td>\n",
       "      <td>35.0</td>\n",
       "      <td>1</td>\n",
       "      <td>0</td>\n",
       "      <td>113803</td>\n",
       "      <td>53.1000</td>\n",
       "      <td>C123</td>\n",
       "      <td>S</td>\n",
       "    </tr>\n",
       "    <tr>\n",
       "      <th>4</th>\n",
       "      <td>5</td>\n",
       "      <td>0</td>\n",
       "      <td>3</td>\n",
       "      <td>Allen, Mr. William Henry</td>\n",
       "      <td>male</td>\n",
       "      <td>35.0</td>\n",
       "      <td>0</td>\n",
       "      <td>0</td>\n",
       "      <td>373450</td>\n",
       "      <td>8.0500</td>\n",
       "      <td>NaN</td>\n",
       "      <td>S</td>\n",
       "    </tr>\n",
       "  </tbody>\n",
       "</table>\n",
       "</div>"
      ],
      "text/plain": [
       "   PassengerId  Survived  Pclass  \\\n",
       "0            1         0       3   \n",
       "1            2         1       1   \n",
       "2            3         1       3   \n",
       "3            4         1       1   \n",
       "4            5         0       3   \n",
       "\n",
       "                                                Name     Sex   Age  SibSp  \\\n",
       "0                            Braund, Mr. Owen Harris    male  22.0      1   \n",
       "1  Cumings, Mrs. John Bradley (Florence Briggs Th...  female  38.0      1   \n",
       "2                             Heikkinen, Miss. Laina  female  26.0      0   \n",
       "3       Futrelle, Mrs. Jacques Heath (Lily May Peel)  female  35.0      1   \n",
       "4                           Allen, Mr. William Henry    male  35.0      0   \n",
       "\n",
       "   Parch            Ticket     Fare Cabin Embarked  \n",
       "0      0         A/5 21171   7.2500   NaN        S  \n",
       "1      0          PC 17599  71.2833   C85        C  \n",
       "2      0  STON/O2. 3101282   7.9250   NaN        S  \n",
       "3      0            113803  53.1000  C123        S  \n",
       "4      0            373450   8.0500   NaN        S  "
      ]
     },
     "execution_count": 77,
     "metadata": {},
     "output_type": "execute_result"
    }
   ],
   "source": [
    "data.head()"
   ]
  },
  {
   "cell_type": "code",
   "execution_count": 78,
   "id": "686b9970",
   "metadata": {},
   "outputs": [
    {
     "data": {
      "text/plain": [
       "0                              Braund, Mr. Owen Harris\n",
       "1    Cumings, Mrs. John Bradley (Florence Briggs Th...\n",
       "2                               Heikkinen, Miss. Laina\n",
       "3         Futrelle, Mrs. Jacques Heath (Lily May Peel)\n",
       "4                             Allen, Mr. William Henry\n",
       "5                                     Moran, Mr. James\n",
       "6                              McCarthy, Mr. Timothy J\n",
       "7                       Palsson, Master. Gosta Leonard\n",
       "8    Johnson, Mrs. Oscar W (Elisabeth Vilhelmina Berg)\n",
       "9                  Nasser, Mrs. Nicholas (Adele Achem)\n",
       "Name: Name, dtype: object"
      ]
     },
     "execution_count": 78,
     "metadata": {},
     "output_type": "execute_result"
    }
   ],
   "source": [
    "# print first 10 names\n",
    "data['Name'].head(10)"
   ]
  },
  {
   "cell_type": "markdown",
   "id": "0d89c567",
   "metadata": {},
   "source": [
    "## Methold 1: Split on pandas dataframe and extract the title"
   ]
  },
  {
   "cell_type": "code",
   "execution_count": 79,
   "id": "80a64da6",
   "metadata": {},
   "outputs": [
    {
     "data": {
      "text/plain": [
       "['Allen, Mr', ' William Henry']"
      ]
     },
     "execution_count": 79,
     "metadata": {},
     "output_type": "execute_result"
    }
   ],
   "source": [
    "name = \"Allen, Mr. William Henry\"\n",
    "name2 = name.split(\".\")\n",
    "name2"
   ]
  },
  {
   "cell_type": "code",
   "execution_count": 80,
   "id": "f63244a4",
   "metadata": {},
   "outputs": [
    {
     "data": {
      "text/plain": [
       "['Allen, Mr']"
      ]
     },
     "execution_count": 80,
     "metadata": {},
     "output_type": "execute_result"
    }
   ],
   "source": [
    "name2[0].split('.')"
   ]
  },
  {
   "cell_type": "code",
   "execution_count": 81,
   "id": "cbffe8cd",
   "metadata": {},
   "outputs": [
    {
     "data": {
      "text/plain": [
       " Mr              517\n",
       " Miss            182\n",
       " Mrs             125\n",
       " Master           40\n",
       " Dr                7\n",
       " Rev               6\n",
       " Mlle              2\n",
       " Major             2\n",
       " Col               2\n",
       " the Countess      1\n",
       " Capt              1\n",
       " Ms                1\n",
       " Sir               1\n",
       " Lady              1\n",
       " Mme               1\n",
       " Don               1\n",
       " Jonkheer          1\n",
       "Name: Name, dtype: int64"
      ]
     },
     "execution_count": 81,
     "metadata": {},
     "output_type": "execute_result"
    }
   ],
   "source": [
    "title=data['Name'].apply(lambda x: x.split(\".\")[0].split(\",\")[1])\n",
    "title.value_counts()"
   ]
  },
  {
   "cell_type": "markdown",
   "id": "2c728ecc",
   "metadata": {},
   "source": [
    "## Method 2: Use RegEx to extract titles"
   ]
  },
  {
   "cell_type": "code",
   "execution_count": 82,
   "id": "f81dfe4b",
   "metadata": {},
   "outputs": [],
   "source": [
    "def split_it(name):\n",
    "    return re.findall(\"\\w+\\.\", name)[0]"
   ]
  },
  {
   "cell_type": "code",
   "execution_count": 83,
   "id": "cce19cb3",
   "metadata": {},
   "outputs": [
    {
     "data": {
      "text/plain": [
       "Mr.          517\n",
       "Miss.        182\n",
       "Mrs.         125\n",
       "Master.       40\n",
       "Dr.            7\n",
       "Rev.           6\n",
       "Mlle.          2\n",
       "Major.         2\n",
       "Col.           2\n",
       "Countess.      1\n",
       "Capt.          1\n",
       "Ms.            1\n",
       "Sir.           1\n",
       "Lady.          1\n",
       "Mme.           1\n",
       "Don.           1\n",
       "Jonkheer.      1\n",
       "Name: Name, dtype: int64"
      ]
     },
     "execution_count": 83,
     "metadata": {},
     "output_type": "execute_result"
    }
   ],
   "source": [
    "title= data['Name'].apply(lambda x: split_it(x))\n",
    "title.value_counts()"
   ]
  },
  {
   "cell_type": "code",
   "execution_count": null,
   "id": "ff3a7d88",
   "metadata": {},
   "outputs": [],
   "source": []
  },
  {
   "cell_type": "code",
   "execution_count": null,
   "id": "e7800d4e",
   "metadata": {},
   "outputs": [],
   "source": []
  },
  {
   "cell_type": "code",
   "execution_count": null,
   "id": "4ff2a68f",
   "metadata": {},
   "outputs": [],
   "source": []
  },
  {
   "cell_type": "code",
   "execution_count": null,
   "id": "75f9ae92",
   "metadata": {},
   "outputs": [],
   "source": []
  },
  {
   "cell_type": "code",
   "execution_count": null,
   "id": "63d8ba18",
   "metadata": {},
   "outputs": [],
   "source": []
  },
  {
   "cell_type": "code",
   "execution_count": null,
   "id": "d28e60bd",
   "metadata": {},
   "outputs": [],
   "source": []
  }
 ],
 "metadata": {
  "kernelspec": {
   "display_name": "Python 3 (ipykernel)",
   "language": "python",
   "name": "python3"
  },
  "language_info": {
   "codemirror_mode": {
    "name": "ipython",
    "version": 3
   },
   "file_extension": ".py",
   "mimetype": "text/x-python",
   "name": "python",
   "nbconvert_exporter": "python",
   "pygments_lexer": "ipython3",
   "version": "3.9.12"
  }
 },
 "nbformat": 4,
 "nbformat_minor": 5
}
