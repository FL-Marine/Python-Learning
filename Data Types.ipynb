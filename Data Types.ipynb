{
 "cells": [
  {
   "cell_type": "markdown",
   "id": "a96b7f15",
   "metadata": {},
   "source": [
    "# Data Types"
   ]
  },
  {
   "cell_type": "markdown",
   "id": "7ad68c72",
   "metadata": {},
   "source": [
    "## Ints"
   ]
  },
  {
   "cell_type": "code",
   "execution_count": 1,
   "id": "9a06e274",
   "metadata": {},
   "outputs": [
    {
     "data": {
      "text/plain": [
       "int"
      ]
     },
     "execution_count": 1,
     "metadata": {},
     "output_type": "execute_result"
    }
   ],
   "source": [
    "type(12)\n",
    "\n",
    "# int = whole number "
   ]
  },
  {
   "cell_type": "code",
   "execution_count": 2,
   "id": "6923e699",
   "metadata": {},
   "outputs": [
    {
     "data": {
      "text/plain": [
       "float"
      ]
     },
     "execution_count": 2,
     "metadata": {},
     "output_type": "execute_result"
    }
   ],
   "source": [
    "type(12 + 10.25)\n",
    "\n",
    "# float = decimal number"
   ]
  },
  {
   "cell_type": "code",
   "execution_count": 3,
   "id": "689cad1f",
   "metadata": {},
   "outputs": [
    {
     "data": {
      "text/plain": [
       "complex"
      ]
     },
     "execution_count": 3,
     "metadata": {},
     "output_type": "execute_result"
    }
   ],
   "source": [
    "type(12 + 3j)\n",
    "\n",
    "# complex data types are used for imaginary numbers j is used for this"
   ]
  },
  {
   "cell_type": "markdown",
   "id": "69312d6d",
   "metadata": {},
   "source": [
    "## Boolean"
   ]
  },
  {
   "cell_type": "code",
   "execution_count": 4,
   "id": "fba3e40f",
   "metadata": {},
   "outputs": [
    {
     "data": {
      "text/plain": [
       "bool"
      ]
     },
     "execution_count": 4,
     "metadata": {},
     "output_type": "execute_result"
    }
   ],
   "source": [
    "type(True)\n",
    "\n",
    "# Only 2 inputs True or False"
   ]
  },
  {
   "cell_type": "code",
   "execution_count": 5,
   "id": "d3c949e8",
   "metadata": {},
   "outputs": [
    {
     "data": {
      "text/plain": [
       "bool"
      ]
     },
     "execution_count": 5,
     "metadata": {},
     "output_type": "execute_result"
    }
   ],
   "source": [
    "type(1 > 5)"
   ]
  },
  {
   "cell_type": "code",
   "execution_count": 6,
   "id": "d8dbc8ad",
   "metadata": {},
   "outputs": [
    {
     "data": {
      "text/plain": [
       "False"
      ]
     },
     "execution_count": 6,
     "metadata": {},
     "output_type": "execute_result"
    }
   ],
   "source": [
    "1 > 5"
   ]
  },
  {
   "cell_type": "code",
   "execution_count": 7,
   "id": "4bcf8731",
   "metadata": {},
   "outputs": [
    {
     "data": {
      "text/plain": [
       "True"
      ]
     },
     "execution_count": 7,
     "metadata": {},
     "output_type": "execute_result"
    }
   ],
   "source": [
    "1==1"
   ]
  },
  {
   "cell_type": "markdown",
   "id": "5734ba68",
   "metadata": {},
   "source": [
    "## Strings"
   ]
  },
  {
   "cell_type": "code",
   "execution_count": 8,
   "id": "0781e474",
   "metadata": {},
   "outputs": [
    {
     "data": {
      "text/plain": [
       "'Single Quote'"
      ]
     },
     "execution_count": 8,
     "metadata": {},
     "output_type": "execute_result"
    }
   ],
   "source": [
    "'Single Quote'"
   ]
  },
  {
   "cell_type": "code",
   "execution_count": 9,
   "id": "1d8c6214",
   "metadata": {},
   "outputs": [
    {
     "data": {
      "text/plain": [
       "'Double Quote'"
      ]
     },
     "execution_count": 9,
     "metadata": {},
     "output_type": "execute_result"
    }
   ],
   "source": [
    "\"Double Quote\""
   ]
  },
  {
   "cell_type": "code",
   "execution_count": 10,
   "id": "406de5d5",
   "metadata": {},
   "outputs": [],
   "source": [
    "multiline = \"\"\"\n",
    "The ice cream vanquished \n",
    "my longing for sweets,\n",
    "upon this diet I look away,\n",
    "it no longer exists on this day.\n",
    "\n",
    "\"\"\"\n",
    "# triple quotes"
   ]
  },
  {
   "cell_type": "code",
   "execution_count": 11,
   "id": "da23b85f",
   "metadata": {},
   "outputs": [
    {
     "name": "stdout",
     "output_type": "stream",
     "text": [
      "\n",
      "The ice cream vanquished \n",
      "my longing for sweets,\n",
      "upon this diet I look away,\n",
      "it no longer exists on this day.\n",
      "\n",
      "\n"
     ]
    }
   ],
   "source": [
    "print(multiline)"
   ]
  },
  {
   "cell_type": "code",
   "execution_count": null,
   "id": "077fc257",
   "metadata": {},
   "outputs": [],
   "source": [
    "\"I've always wanted to eat a gallon of ice cream.\"\n",
    "\n",
    "# whenever this is a quote or ' string use double quote"
   ]
  },
  {
   "cell_type": "code",
   "execution_count": null,
   "id": "767cc9c4",
   "metadata": {},
   "outputs": [],
   "source": [
    "\"\"\"\n",
    "I've always wanted to eat a gallon of \"ice cream.\"\n",
    "\"\"\"\n",
    "# if there is double quote in string use triple quotes"
   ]
  },
  {
   "cell_type": "code",
   "execution_count": 12,
   "id": "0a12703f",
   "metadata": {},
   "outputs": [
    {
     "data": {
      "text/plain": [
       "str"
      ]
     },
     "execution_count": 12,
     "metadata": {},
     "output_type": "execute_result"
    }
   ],
   "source": [
    "type(multiline)"
   ]
  },
  {
   "cell_type": "code",
   "execution_count": 13,
   "id": "61900cf3",
   "metadata": {},
   "outputs": [],
   "source": [
    "a = 'Hello World!'\n",
    "\n",
    "# strings can be indexed"
   ]
  },
  {
   "cell_type": "code",
   "execution_count": 14,
   "id": "d81926eb",
   "metadata": {},
   "outputs": [
    {
     "name": "stdout",
     "output_type": "stream",
     "text": [
      "Hello\n"
     ]
    }
   ],
   "source": [
    "print(a[:5])"
   ]
  },
  {
   "cell_type": "code",
   "execution_count": 17,
   "id": "7277a174",
   "metadata": {},
   "outputs": [
    {
     "name": "stdout",
     "output_type": "stream",
     "text": [
      "W\n"
     ]
    }
   ],
   "source": [
    "print(a[6])\n",
    "\n",
    "# gives the position"
   ]
  },
  {
   "cell_type": "code",
   "execution_count": 19,
   "id": "b0441ed8",
   "metadata": {},
   "outputs": [
    {
     "name": "stdout",
     "output_type": "stream",
     "text": [
      "l\n"
     ]
    }
   ],
   "source": [
    "print(a[-3])"
   ]
  },
  {
   "cell_type": "code",
   "execution_count": 18,
   "id": "030b196e",
   "metadata": {},
   "outputs": [
    {
     "name": "stdout",
     "output_type": "stream",
     "text": [
      "llo\n"
     ]
    }
   ],
   "source": [
    "print(a[2:5])"
   ]
  },
  {
   "cell_type": "code",
   "execution_count": 20,
   "id": "92076eb9",
   "metadata": {},
   "outputs": [
    {
     "data": {
      "text/plain": [
       "'Hello World!Hello World!Hello World!'"
      ]
     },
     "execution_count": 20,
     "metadata": {},
     "output_type": "execute_result"
    }
   ],
   "source": [
    "a*3\n",
    "\n",
    "# multiply strings"
   ]
  },
  {
   "cell_type": "code",
   "execution_count": 21,
   "id": "c1297ef5",
   "metadata": {},
   "outputs": [
    {
     "data": {
      "text/plain": [
       "'Hello World!Hello World!'"
      ]
     },
     "execution_count": 21,
     "metadata": {},
     "output_type": "execute_result"
    }
   ],
   "source": [
    "a + a\n",
    "\n",
    "# add strings"
   ]
  },
  {
   "cell_type": "markdown",
   "id": "64b45007",
   "metadata": {},
   "source": [
    "## Lists\n",
    "- Lists store multiply values"
   ]
  },
  {
   "cell_type": "code",
   "execution_count": 24,
   "id": "9e75d72e",
   "metadata": {},
   "outputs": [
    {
     "data": {
      "text/plain": [
       "[1, 2, 3]"
      ]
     },
     "execution_count": 24,
     "metadata": {},
     "output_type": "execute_result"
    }
   ],
   "source": [
    "[1,2,3]\n",
    "\n",
    "# can be indexed"
   ]
  },
  {
   "cell_type": "code",
   "execution_count": 26,
   "id": "9013b869",
   "metadata": {},
   "outputs": [
    {
     "data": {
      "text/plain": [
       "['Cookie Dough', 'Strawberry', 'Chocolate']"
      ]
     },
     "execution_count": 26,
     "metadata": {},
     "output_type": "execute_result"
    }
   ],
   "source": [
    "['Cookie Dough', 'Strawberry', 'Chocolate']\n",
    "\n",
    "# lists can have any data types"
   ]
  },
  {
   "cell_type": "code",
   "execution_count": 28,
   "id": "f8c4e992",
   "metadata": {},
   "outputs": [
    {
     "data": {
      "text/plain": [
       "['Vanilla', 3, ['Scoops', 'Spoon'], True]"
      ]
     },
     "execution_count": 28,
     "metadata": {},
     "output_type": "execute_result"
    }
   ],
   "source": [
    "['Vanilla', 3, ['Scoops', 'Spoon'], True]\n",
    "\n",
    "# created a list with different data types"
   ]
  },
  {
   "cell_type": "code",
   "execution_count": 39,
   "id": "b2c7a83b",
   "metadata": {},
   "outputs": [
    {
     "data": {
      "text/plain": [
       "['Cookie Dough', 'Strawberry', 'Chocolate', 'Salted Caramel']"
      ]
     },
     "execution_count": 39,
     "metadata": {},
     "output_type": "execute_result"
    }
   ],
   "source": [
    "ice_cream = ['Cookie Dough', 'Strawberry', 'Chocolate']\n",
    "\n",
    "ice_cream.append('Salted Caramel')\n",
    "# .append adds to the end of a list\n",
    "\n",
    "ice_cream\n",
    "# lists are changeable, things can be added or removed"
   ]
  },
  {
   "cell_type": "code",
   "execution_count": 40,
   "id": "cccb9452",
   "metadata": {},
   "outputs": [
    {
     "data": {
      "text/plain": [
       "['Butter Pecan', 'Strawberry', 'Chocolate', 'Salted Caramel']"
      ]
     },
     "execution_count": 40,
     "metadata": {},
     "output_type": "execute_result"
    }
   ],
   "source": [
    "ice_cream[0] = 'Butter Pecan'\n",
    "\n",
    "# can change value at specific index\n",
    "\n",
    "ice_cream"
   ]
  },
  {
   "cell_type": "code",
   "execution_count": 41,
   "id": "55f7b7bb",
   "metadata": {},
   "outputs": [],
   "source": [
    "nested_list = ['Vanilla', 3, ['Scoops', 'Spoon'], True]\n",
    "\n",
    "# list within list"
   ]
  },
  {
   "cell_type": "code",
   "execution_count": 43,
   "id": "d39fa5f2",
   "metadata": {},
   "outputs": [
    {
     "data": {
      "text/plain": [
       "'Spoon'"
      ]
     },
     "execution_count": 43,
     "metadata": {},
     "output_type": "execute_result"
    }
   ],
   "source": [
    "nested_list[2][1]"
   ]
  },
  {
   "cell_type": "markdown",
   "id": "1c5ce41e",
   "metadata": {},
   "source": [
    "## Tuples\n",
    "- Similar to lists except cannot be modified or changed aka immutable"
   ]
  },
  {
   "cell_type": "code",
   "execution_count": 44,
   "id": "80d1a747",
   "metadata": {},
   "outputs": [],
   "source": [
    "tuple_scoops = (1,2,3,2,1)"
   ]
  },
  {
   "cell_type": "code",
   "execution_count": 45,
   "id": "4f16eeee",
   "metadata": {},
   "outputs": [
    {
     "data": {
      "text/plain": [
       "tuple"
      ]
     },
     "execution_count": 45,
     "metadata": {},
     "output_type": "execute_result"
    }
   ],
   "source": [
    "type(tuple_scoops)\n",
    "\n",
    "# tuples can be indexed"
   ]
  },
  {
   "cell_type": "code",
   "execution_count": 46,
   "id": "ff064777",
   "metadata": {},
   "outputs": [
    {
     "data": {
      "text/plain": [
       "1"
      ]
     },
     "execution_count": 46,
     "metadata": {},
     "output_type": "execute_result"
    }
   ],
   "source": [
    "tuple_scoops[0]"
   ]
  },
  {
   "cell_type": "code",
   "execution_count": 47,
   "id": "5f8013b7",
   "metadata": {},
   "outputs": [
    {
     "ename": "AttributeError",
     "evalue": "'tuple' object has no attribute 'append'",
     "output_type": "error",
     "traceback": [
      "\u001b[1;31m---------------------------------------------------------------------------\u001b[0m",
      "\u001b[1;31mAttributeError\u001b[0m                            Traceback (most recent call last)",
      "Input \u001b[1;32mIn [47]\u001b[0m, in \u001b[0;36m<cell line: 1>\u001b[1;34m()\u001b[0m\n\u001b[1;32m----> 1\u001b[0m \u001b[43mtuple_scoops\u001b[49m\u001b[38;5;241;43m.\u001b[39;49m\u001b[43mappend\u001b[49m(\u001b[38;5;241m3\u001b[39m)\n",
      "\u001b[1;31mAttributeError\u001b[0m: 'tuple' object has no attribute 'append'"
     ]
    }
   ],
   "source": [
    "tuple_scoops.append(3)\n",
    "\n",
    "# tuples cannot be changed"
   ]
  },
  {
   "cell_type": "markdown",
   "id": "02785395",
   "metadata": {},
   "source": [
    "## Sets\n",
    "- Sets do not have duplicate elements\n",
    "- Values can not be indexed because they are unordered"
   ]
  },
  {
   "cell_type": "code",
   "execution_count": 48,
   "id": "fb7443ba",
   "metadata": {},
   "outputs": [],
   "source": [
    "daily_pints = {1,2,3}"
   ]
  },
  {
   "cell_type": "code",
   "execution_count": 49,
   "id": "8439765d",
   "metadata": {},
   "outputs": [
    {
     "data": {
      "text/plain": [
       "set"
      ]
     },
     "execution_count": 49,
     "metadata": {},
     "output_type": "execute_result"
    }
   ],
   "source": [
    "type(daily_pints)"
   ]
  },
  {
   "cell_type": "code",
   "execution_count": 50,
   "id": "bc7b0dff",
   "metadata": {},
   "outputs": [
    {
     "name": "stdout",
     "output_type": "stream",
     "text": [
      "{1, 2, 3}\n"
     ]
    }
   ],
   "source": [
    "print(daily_pints)"
   ]
  },
  {
   "cell_type": "code",
   "execution_count": 52,
   "id": "017198c7",
   "metadata": {},
   "outputs": [
    {
     "name": "stdout",
     "output_type": "stream",
     "text": [
      "{1, 2, 3, 4, 5, 6, 31}\n"
     ]
    }
   ],
   "source": [
    "daily_pints_log = {1,2,31,2,3,4,1,2,5,6,3,2}\n",
    "\n",
    "print(daily_pints_log)\n",
    "\n",
    "# confirming sets DO NOT print duplicate values"
   ]
  },
  {
   "cell_type": "code",
   "execution_count": 53,
   "id": "95e21072",
   "metadata": {},
   "outputs": [],
   "source": [
    "wifes_daily_pints_log = {1,3,5,7,3,24,5,7,3,2,0}"
   ]
  },
  {
   "cell_type": "code",
   "execution_count": 55,
   "id": "6d3b0441",
   "metadata": {},
   "outputs": [
    {
     "name": "stdout",
     "output_type": "stream",
     "text": [
      "{0, 1, 2, 3, 4, 5, 6, 7, 24, 31}\n"
     ]
    }
   ],
   "source": [
    "print(daily_pints_log | wifes_daily_pints_log)\n",
    "\n",
    "# | shows combined unique values of both sets to just show unique values"
   ]
  },
  {
   "cell_type": "code",
   "execution_count": 56,
   "id": "33262485",
   "metadata": {},
   "outputs": [
    {
     "name": "stdout",
     "output_type": "stream",
     "text": [
      "{1, 2, 3, 5}\n"
     ]
    }
   ],
   "source": [
    "print(daily_pints_log & wifes_daily_pints_log)\n",
    "\n",
    "# & shows that matches"
   ]
  },
  {
   "cell_type": "code",
   "execution_count": 57,
   "id": "6119a757",
   "metadata": {},
   "outputs": [
    {
     "name": "stdout",
     "output_type": "stream",
     "text": [
      "{4, 6, 31}\n"
     ]
    }
   ],
   "source": [
    "print(daily_pints_log - wifes_daily_pints_log)\n",
    "\n",
    "# - shows what doesn't match "
   ]
  },
  {
   "cell_type": "code",
   "execution_count": 59,
   "id": "cfee3486",
   "metadata": {},
   "outputs": [
    {
     "name": "stdout",
     "output_type": "stream",
     "text": [
      "{0, 24, 7}\n"
     ]
    }
   ],
   "source": [
    "print(wifes_daily_pints_log - daily_pints_log)\n",
    "\n",
    "# - shows what doesn't match "
   ]
  },
  {
   "cell_type": "code",
   "execution_count": 60,
   "id": "01ad9ca0",
   "metadata": {},
   "outputs": [
    {
     "name": "stdout",
     "output_type": "stream",
     "text": [
      "{0, 4, 6, 7, 24, 31}\n"
     ]
    }
   ],
   "source": [
    "print(wifes_daily_pints_log ^ daily_pints_log)\n",
    "\n",
    "# - shows if value is in one or the other but not both\n",
    "# these values are completely unique only to each of these sites"
   ]
  },
  {
   "cell_type": "markdown",
   "id": "bdc305c4",
   "metadata": {},
   "source": [
    "## Dictionaries\n",
    "- Key/value pair"
   ]
  },
  {
   "cell_type": "code",
   "execution_count": 61,
   "id": "d3a84f5b",
   "metadata": {},
   "outputs": [],
   "source": [
    "dict_cream = {'name':'Abe Diaz', 'weekly intake': 5, 'favorite ice creams':['MCC', 'Chocolate']}"
   ]
  },
  {
   "cell_type": "code",
   "execution_count": 62,
   "id": "3beb1042",
   "metadata": {},
   "outputs": [
    {
     "data": {
      "text/plain": [
       "dict"
      ]
     },
     "execution_count": 62,
     "metadata": {},
     "output_type": "execute_result"
    }
   ],
   "source": [
    "type(dict_cream)"
   ]
  },
  {
   "cell_type": "code",
   "execution_count": 63,
   "id": "290e8941",
   "metadata": {},
   "outputs": [
    {
     "name": "stdout",
     "output_type": "stream",
     "text": [
      "{'name': 'Abe Diaz', 'weekly intake': 5, 'favorite ice creams': ['MCC', 'Chocolate']}\n"
     ]
    }
   ],
   "source": [
    "print(dict_cream)"
   ]
  },
  {
   "cell_type": "code",
   "execution_count": 64,
   "id": "4ee8a38b",
   "metadata": {},
   "outputs": [
    {
     "data": {
      "text/plain": [
       "dict_values(['Abe Diaz', 5, ['MCC', 'Chocolate']])"
      ]
     },
     "execution_count": 64,
     "metadata": {},
     "output_type": "execute_result"
    }
   ],
   "source": [
    "dict_cream.values()\n",
    "\n",
    "# showing just the values in the dictionary"
   ]
  },
  {
   "cell_type": "code",
   "execution_count": 65,
   "id": "8e4d979b",
   "metadata": {},
   "outputs": [
    {
     "data": {
      "text/plain": [
       "dict_keys(['name', 'weekly intake', 'favorite ice creams'])"
      ]
     },
     "execution_count": 65,
     "metadata": {},
     "output_type": "execute_result"
    }
   ],
   "source": [
    "dict_cream.keys()\n",
    "\n",
    "# showing just the keys in the dictionary"
   ]
  },
  {
   "cell_type": "code",
   "execution_count": 66,
   "id": "508a02e9",
   "metadata": {},
   "outputs": [
    {
     "data": {
      "text/plain": [
       "dict_items([('name', 'Abe Diaz'), ('weekly intake', 5), ('favorite ice creams', ['MCC', 'Chocolate'])])"
      ]
     },
     "execution_count": 66,
     "metadata": {},
     "output_type": "execute_result"
    }
   ],
   "source": [
    "dict_cream.items()\n",
    "\n",
    "# showing items in a dictionary"
   ]
  },
  {
   "cell_type": "code",
   "execution_count": 67,
   "id": "99225978",
   "metadata": {},
   "outputs": [
    {
     "data": {
      "text/plain": [
       "'Abe Diaz'"
      ]
     },
     "execution_count": 67,
     "metadata": {},
     "output_type": "execute_result"
    }
   ],
   "source": [
    "dict_cream['name']\n",
    "\n",
    "# cant call/index like lists must use actual key name"
   ]
  },
  {
   "cell_type": "code",
   "execution_count": 68,
   "id": "5c37b43e",
   "metadata": {},
   "outputs": [
    {
     "name": "stdout",
     "output_type": "stream",
     "text": [
      "{'name': 'Brandi Diaz', 'weekly intake': 5, 'favorite ice creams': ['MCC', 'Chocolate']}\n"
     ]
    }
   ],
   "source": [
    "dict_cream['name'] = 'Brandi Diaz'\n",
    "print(dict_cream)\n",
    "\n",
    "# updating values in a dictionary"
   ]
  },
  {
   "cell_type": "code",
   "execution_count": 70,
   "id": "b0a7f64a",
   "metadata": {},
   "outputs": [
    {
     "name": "stdout",
     "output_type": "stream",
     "text": [
      "{'name': 'Brandi Diaz', 'weekly intake': 10, 'favorite ice creams': ['MCC', 'Chocolate'], 'weight': 300}\n"
     ]
    }
   ],
   "source": [
    "dict_cream.update({'name': 'Brandi Diaz', 'weekly intake': 10, 'weight': 300})\n",
    "\n",
    "print(dict_cream)\n",
    "\n",
    "# update adds new values to removes, values do change"
   ]
  },
  {
   "cell_type": "code",
   "execution_count": 71,
   "id": "9725fb93",
   "metadata": {},
   "outputs": [
    {
     "name": "stdout",
     "output_type": "stream",
     "text": [
      "{'name': 'Brandi Diaz', 'weekly intake': 10, 'favorite ice creams': ['MCC', 'Chocolate']}\n"
     ]
    }
   ],
   "source": [
    "del dict_cream['weight']\n",
    "print(dict_cream)\n",
    "\n",
    "# del deletes key/value pair"
   ]
  }
 ],
 "metadata": {
  "kernelspec": {
   "display_name": "Python 3 (ipykernel)",
   "language": "python",
   "name": "python3"
  },
  "language_info": {
   "codemirror_mode": {
    "name": "ipython",
    "version": 3
   },
   "file_extension": ".py",
   "mimetype": "text/x-python",
   "name": "python",
   "nbconvert_exporter": "python",
   "pygments_lexer": "ipython3",
   "version": "3.9.12"
  }
 },
 "nbformat": 4,
 "nbformat_minor": 5
}
