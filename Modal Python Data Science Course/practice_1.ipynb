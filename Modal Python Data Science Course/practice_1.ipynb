{
 "cells": [
  {
   "cell_type": "markdown",
   "metadata": {},
   "source": [
    "## Practice 1: First Steps in Python\n",
    "\n",
    "In this practice assignment, you'll start your Python journey by learning some of the basics in manipulating data of various types, and using the `print()` function to see what is happening in your Python program. \n",
    "\n",
    "Throughout the practice, this [documentation on mathematical operators](https://www.tutorialspoint.com/python/python_basic_operators.htm) may be helpful. "
   ]
  },
  {
   "cell_type": "markdown",
   "metadata": {},
   "source": [
    "### Using the `print()` Function\n",
    "\n",
    "`print()` is a built-in function that allows you, the human, to see what is going on with code. It does not transform or transmit anything to the Python program.\n",
    "\n",
    "For example, we've printed the message, \"Hello World!\" below."
   ]
  },
  {
   "cell_type": "code",
   "execution_count": 1,
   "metadata": {
    "scrolled": true
   },
   "outputs": [
    {
     "name": "stdout",
     "output_type": "stream",
     "text": [
      "Hello World!\n"
     ]
    }
   ],
   "source": [
    "print('Hello World!')"
   ]
  },
  {
   "cell_type": "markdown",
   "metadata": {},
   "source": [
    "### Comments\n",
    "\n",
    "Sometimes, we want to explain and organize our code without telling the computer to do anything. Enter comments! The `#` symbol tells Python that you are writing a comment for another human to read. Python will ignore anything written on the line after the `#` symbol. "
   ]
  },
  {
   "cell_type": "code",
   "execution_count": 2,
   "metadata": {},
   "outputs": [
    {
     "name": "stdout",
     "output_type": "stream",
     "text": [
      "Hello World\n"
     ]
    }
   ],
   "source": [
    "# Print 'Hello World!'\n",
    "print('Hello World') # Another comment"
   ]
  },
  {
   "cell_type": "markdown",
   "metadata": {},
   "source": [
    "### Basic Data Types\n",
    "\n",
    "In Python, there are a number of different data types that we can use to store information. The four most common are integers, floats, strings, and booleans. "
   ]
  },
  {
   "cell_type": "code",
   "execution_count": 3,
   "metadata": {},
   "outputs": [
    {
     "name": "stdout",
     "output_type": "stream",
     "text": [
      "3\n",
      "3.5\n",
      "Hello World\n",
      "True\n"
     ]
    }
   ],
   "source": [
    "print(3)              # integer value\n",
    "print(3.5)            # float value\n",
    "print('Hello World')  # string value\n",
    "print(True)           # boolean value"
   ]
  },
  {
   "cell_type": "markdown",
   "metadata": {},
   "source": [
    "### Variables\n",
    "\n",
    "Variables allow us to store data for manipulation or visualization across various parts of our Python program. This reduces repetitive code and makes our program more readable.\n",
    "\n",
    "For example, imagine that we are writing a program to create a receipt for an online shopper. We might want to print the cost of the order in multiple places. Therefore, we could store that value in a variable named `cost`."
   ]
  },
  {
   "cell_type": "code",
   "execution_count": 4,
   "metadata": {},
   "outputs": [
    {
     "name": "stdout",
     "output_type": "stream",
     "text": [
      "The cost of your order is $ 21.27\n",
      "Please press the green button to accept the charge of $ 21.27\n"
     ]
    }
   ],
   "source": [
    "cost = 21.27\n",
    "print('The cost of your order is $', cost)\n",
    "print('Please press the green button to accept the charge of $', cost)"
   ]
  },
  {
   "cell_type": "markdown",
   "metadata": {},
   "source": [
    "### Edge Case: Quotation Marks Inside Strings\n",
    "\n",
    "One edge case to think about is how to create a string that contains quotes inside of it. "
   ]
  },
  {
   "cell_type": "code",
   "execution_count": 5,
   "metadata": {},
   "outputs": [
    {
     "name": "stdout",
     "output_type": "stream",
     "text": [
      "She said, \"You have to use a single quote on the outside if you want to quote me.\"\n",
      "I'm using contractions and so I've got to use double quotes.\n",
      "Here I'll use the backslash to use single quotes and a contraction.\n"
     ]
    }
   ],
   "source": [
    "# Edge Case! Quotes in Quotes\n",
    "\n",
    "\n",
    "# Use single quote to encapsulate the string if you need to use a double quote inside\n",
    "print('She said, \"You have to use a single quote on the outside if you want to quote me.\"')\n",
    "\n",
    "# Use double quote to encapsulate the string if you need to use a single quote inside\n",
    "print(\"I'm using contractions and so I've got to use double quotes.\")\n",
    "\n",
    "# You can also use the escape character (\\) to tell python to ignore the character that comes after\n",
    "print('Here I\\'ll use the backslash to use single quotes and a contraction.')"
   ]
  },
  {
   "cell_type": "markdown",
   "metadata": {},
   "source": [
    "### Mathematical Operators\n",
    "\n",
    "Python has a number of built-in mathematical operators. These operators can be used to perform transformations on data.\n",
    "\n",
    "It is important to note that operators work differently for different data types."
   ]
  },
  {
   "cell_type": "code",
   "execution_count": 7,
   "metadata": {
    "collapsed": true
   },
   "outputs": [],
   "source": [
    "# Create variables for math in later cells\n",
    "\n",
    "a = 2\n",
    "b = 4\n",
    "c = 'Hello '\n",
    "d = 'World!'"
   ]
  },
  {
   "cell_type": "markdown",
   "metadata": {},
   "source": [
    "Notice that when you run the cell above you don't see anything in the output. Python is storing the variables in memory but not doing anything else with them."
   ]
  },
  {
   "cell_type": "code",
   "execution_count": 8,
   "metadata": {},
   "outputs": [
    {
     "name": "stdout",
     "output_type": "stream",
     "text": [
      "6\n"
     ]
    }
   ],
   "source": [
    "# Addition (+)\n",
    "print(a + b)"
   ]
  },
  {
   "cell_type": "code",
   "execution_count": 9,
   "metadata": {},
   "outputs": [
    {
     "name": "stdout",
     "output_type": "stream",
     "text": [
      "Hello World!\n"
     ]
    }
   ],
   "source": [
    "# Addition of strings\n",
    "print(c + d)"
   ]
  },
  {
   "cell_type": "code",
   "execution_count": 10,
   "metadata": {},
   "outputs": [
    {
     "name": "stdout",
     "output_type": "stream",
     "text": [
      "-2\n"
     ]
    }
   ],
   "source": [
    "# Subtraction (-)\n",
    "print(a - b)"
   ]
  },
  {
   "cell_type": "code",
   "execution_count": 11,
   "metadata": {},
   "outputs": [
    {
     "name": "stdout",
     "output_type": "stream",
     "text": [
      "8\n"
     ]
    }
   ],
   "source": [
    "# Multiplication (*)\n",
    "print(a * b)"
   ]
  },
  {
   "cell_type": "code",
   "execution_count": 12,
   "metadata": {},
   "outputs": [
    {
     "name": "stdout",
     "output_type": "stream",
     "text": [
      "16\n"
     ]
    }
   ],
   "source": [
    "# Exponent (**)\n",
    "print(b ** a)"
   ]
  },
  {
   "cell_type": "code",
   "execution_count": 13,
   "metadata": {
    "scrolled": false
   },
   "outputs": [
    {
     "name": "stdout",
     "output_type": "stream",
     "text": [
      "2.0\n"
     ]
    }
   ],
   "source": [
    "# Division (/)\n",
    "print(b / a)"
   ]
  },
  {
   "cell_type": "markdown",
   "metadata": {},
   "source": [
    "Division always produces a `float` data type, even if the division results in a whole number."
   ]
  },
  {
   "cell_type": "code",
   "execution_count": 14,
   "metadata": {},
   "outputs": [
    {
     "name": "stdout",
     "output_type": "stream",
     "text": [
      "The remainder of dividing x by y is: 1\n"
     ]
    }
   ],
   "source": [
    "# Modulo (%)\n",
    "\n",
    "x = 5\n",
    "y = 2\n",
    "\n",
    "print('The remainder of dividing x by y is:', x%y)"
   ]
  },
  {
   "cell_type": "markdown",
   "metadata": {},
   "source": [
    "Modulo `%` first does a division, and then returns the remainder left over after the division. The code above does the following operation: \n",
    "\n",
    "5 divided by 2 equals 2 with a remainder of 1, so 5%2 outputs 1"
   ]
  },
  {
   "cell_type": "code",
   "execution_count": 15,
   "metadata": {
    "scrolled": true
   },
   "outputs": [
    {
     "name": "stdout",
     "output_type": "stream",
     "text": [
      "Two divides into nine 4.5 times\n",
      "Two floor divides into nine 4 times\n"
     ]
    }
   ],
   "source": [
    "# Floor division (//)\n",
    "\n",
    "# regular division (/) returns a precise float value\n",
    "print('Two divides into nine', 9/2, 'times')\n",
    "\n",
    "# floor division (//) returns only the whole integer\n",
    "print('Two floor divides into nine', 9//2, 'times')"
   ]
  },
  {
   "cell_type": "markdown",
   "metadata": {},
   "source": [
    "### Practical Example\n",
    "\n",
    "Suppose we work at a car dealership and want to know how many cars to sell to get to $100,000 in profit. Using division will result in a `float` value, which does not tell us how many whole cars to sell to reach our goal. \n",
    "\n",
    "One idea is to use floor division to get the number of cars before the threshold is reached, and then add one. "
   ]
  },
  {
   "cell_type": "code",
   "execution_count": 16,
   "metadata": {},
   "outputs": [
    {
     "name": "stdout",
     "output_type": "stream",
     "text": [
      "10.96611470555982\n",
      "11\n"
     ]
    }
   ],
   "source": [
    "# Save relevant values\n",
    "avg_sales_price = 54853\n",
    "avg_distribution_cost = 45734\n",
    "profit_per_car = avg_sales_price - avg_distribution_cost\n",
    "profit_goal = 100000\n",
    "\n",
    "\n",
    "cars_to_sell = profit_goal / profit_per_car                  # this is a float\n",
    "cars_to_sell_pretty = (profit_goal // profit_per_car) + 1    # this is the number of cars to sell\n",
    "\n",
    "\n",
    "print(cars_to_sell)\n",
    "print(cars_to_sell_pretty)"
   ]
  },
  {
   "cell_type": "markdown",
   "metadata": {},
   "source": [
    "## Practice on Your Own\n",
    "\n",
    "Complete the following prompts to practice your skills. \n",
    "\n",
    "To establish good habits, create variables to solve the prompts first, then print the variables. "
   ]
  },
  {
   "cell_type": "markdown",
   "metadata": {},
   "source": [
    "#### 1. Run the code in the cell to see the error/s. Fix the errors in the code. "
   ]
  },
  {
   "cell_type": "code",
   "execution_count": 19,
   "metadata": {
    "scrolled": true
   },
   "outputs": [
    {
     "name": "stdout",
     "output_type": "stream",
     "text": [
      "This is not the error. Its somewhere else.\n",
      "Mark Twain said: \"I never met a quote I did not like.\"\n"
     ]
    }
   ],
   "source": [
    "# 1\n",
    "\n",
    "print('This is not the error. Its somewhere else.')\n",
    "print('Mark Twain said: \"I never met a quote I did not like.\"') # he didn't really say that as far as we know"
   ]
  },
  {
   "cell_type": "markdown",
   "metadata": {},
   "source": [
    "#### 2. Run the code in the cell to see the error. Fix the error in the code."
   ]
  },
  {
   "cell_type": "code",
   "execution_count": 29,
   "metadata": {},
   "outputs": [
    {
     "name": "stdout",
     "output_type": "stream",
     "text": [
      "This produces + 1 + error\n"
     ]
    }
   ],
   "source": [
    "# 2\n",
    "\n",
    "# print('This produces' + 1 + 'error')\n",
    "\n",
    "print('This produces + 1 + error')"
   ]
  },
  {
   "cell_type": "markdown",
   "metadata": {},
   "source": [
    "### For the remaining questions, use the data below:\n",
    "\n",
    "Imagine that you work for Edison Car Company, and have the following information about car sales:\n",
    "- `edisons_sold` is the number of cars sold in the past month\n",
    "- `avg_sales_price` is the average sales price of each car\n",
    "- `avg_distribution_cost` is the average amount that it costs you to distribute each car\n",
    "\n",
    "Run the cell below to create and save the data."
   ]
  },
  {
   "cell_type": "code",
   "execution_count": 43,
   "metadata": {
    "collapsed": true
   },
   "outputs": [],
   "source": [
    "# 'Edison Car Company' data for the remaining practice challenges\n",
    "\n",
    "edisons_sold = 35\n",
    "avg_sales_price = 54853\n",
    "avg_distribution_cost = 45734"
   ]
  },
  {
   "cell_type": "markdown",
   "metadata": {},
   "source": [
    "#### 3. Calculate the average profit per car using the 'Edison Car Company' sales data and save the result as a variable. Print out the result."
   ]
  },
  {
   "cell_type": "code",
   "execution_count": 44,
   "metadata": {},
   "outputs": [
    {
     "name": "stdout",
     "output_type": "stream",
     "text": [
      "260\n"
     ]
    }
   ],
   "source": [
    "# 3\n",
    "# YOUR CODE GOES HERE\n",
    "\n",
    "avg_profit_per_car = (avg_sales_price - avg_distribution_cost) // 35\n",
    "print(avg_profit_per_car)\n"
   ]
  },
  {
   "cell_type": "markdown",
   "metadata": {},
   "source": [
    "#### 4. Find and print the total profit for this month based on the 'Edison Car Company' sales data."
   ]
  },
  {
   "cell_type": "code",
   "execution_count": 49,
   "metadata": {},
   "outputs": [
    {
     "name": "stdout",
     "output_type": "stream",
     "text": [
      "319165\n"
     ]
    }
   ],
   "source": [
    "# 4\n",
    "# YOUR CODE GOES HERE\n",
    "\n",
    "total_profit = (avg_sales_price - avg_distribution_cost) * 35\n",
    "print(total_profit)"
   ]
  },
  {
   "cell_type": "markdown",
   "metadata": {},
   "source": [
    "#### 5. Assuming identical sales and profit margins from this month, how many months of sales are needed to make \\$1,000,000 profit or more? Calculate and print your answer."
   ]
  },
  {
   "cell_type": "code",
   "execution_count": null,
   "metadata": {
    "collapsed": true
   },
   "outputs": [],
   "source": [
    "# 5\n",
    "# YOUR CODE GOES HERE\n",
    "\n",
    "avg_sales_price_1m = 54853\n",
    "avg_distribution_cost_1m = 45734\n",
    "profit_per_car_1m = avg_sales_price_1m - avg_distribution_cost_1m\n",
    "profit_goal = 100000\n",
    "\n",
    "\n",
    "cars_to_sell = profit_goal / profit_per_car                  # this is a float\n",
    "cars_to_sell_pretty = (profit_goal // profit_per_car) + 1    # this is the number of cars to sell\n",
    "\n",
    "\n",
    "print(cars_to_sell)\n",
    "print(cars_to_sell_pretty)"
   ]
  }
 ],
 "metadata": {
  "kernelspec": {
   "display_name": "Python 3 [3.7]",
   "language": "python",
   "name": "python3"
  },
  "language_info": {
   "codemirror_mode": {
    "name": "ipython",
    "version": 3
   },
   "file_extension": ".py",
   "mimetype": "text/x-python",
   "name": "python",
   "nbconvert_exporter": "python",
   "pygments_lexer": "ipython3",
   "version": "3.7.5"
  }
 },
 "nbformat": 4,
 "nbformat_minor": 5
}
