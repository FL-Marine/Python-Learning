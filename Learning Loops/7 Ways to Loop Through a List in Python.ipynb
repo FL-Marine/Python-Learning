{
 "cells": [
  {
   "cell_type": "markdown",
   "id": "58f74c23",
   "metadata": {},
   "source": [
    "# 7 Ways to Loop Through a List in Python\n",
    "\n",
    "- Link https://learnpython.com/blog/python-list-loop/#:~:text=%207%20Ways%20to%20Loop%20Through%20a%20List,range%20%28%29...%204%20The%20NumPy%20Library%20More%20\n"
   ]
  },
  {
   "cell_type": "markdown",
   "id": "cb118cb1",
   "metadata": {},
   "source": [
    "- Lists are one of the 6 fundamental data types in Python\n",
    "- Lists can store multiple elements in a single variable\n",
    "- Can have multiple data types \n",
    "- Lists (like arrays in other langugaes) can be nested lists within lists\n"
   ]
  },
  {
   "cell_type": "markdown",
   "id": "dcfc9414",
   "metadata": {},
   "source": [
    "# 1. A Simple for Loop\n",
    "\n",
    "- **for** loop is one of the simplest methods for iterating over a list or any other sequence (e.g. TUPLES, SETS, OR DICTIONARIES).\n",
    "\n",
    "- Python Loop Link: https://learnpython.com/blog/write-for-loop-python/"
   ]
  },
  {
   "cell_type": "code",
   "execution_count": 2,
   "id": "1e0c6eca",
   "metadata": {},
   "outputs": [
    {
     "name": "stdout",
     "output_type": "stream",
     "text": [
      "Apple\n",
      "Mango\n",
      "Banana\n",
      "Peach\n"
     ]
    }
   ],
   "source": [
    "fruits = [\"Apple\", \"Mango\", \"Banana\", \"Peach\"]\n",
    "for fruit in fruits:\n",
    "    print(fruit)\n",
    "# the for loop has printed each of the list items\n",
    "# loop has called the print() function four times, each time printing the current item in the list – i.e. the name of a fruit."
   ]
  },
  {
   "cell_type": "code",
   "execution_count": 3,
   "id": "f941ed13",
   "metadata": {
    "scrolled": true
   },
   "outputs": [
    {
     "name": "stdout",
     "output_type": "stream",
     "text": [
      "RNC\n",
      "Triangle\n",
      "Kimura\n",
      "Guillotine\n"
     ]
    }
   ],
   "source": [
    "bjj = [\"RNC\", \"Triangle\", \"Kimura\", \"Guillotine\"]\n",
    "for moves in bjj:\n",
    "    print(moves)"
   ]
  },
  {
   "cell_type": "markdown",
   "id": "e298f6a1",
   "metadata": {},
   "source": [
    "# 2. List Comprehension\n",
    "\n",
    "- list comprehension is similar to for loop but allows to create list in single line.\n",
    "\n",
    "- Lists Article: https://learnpython.com/blog/python-lists-list-comprehension-new-year-resolutions/\n"
   ]
  },
  {
   "cell_type": "code",
   "execution_count": 6,
   "id": "87472024",
   "metadata": {},
   "outputs": [
    {
     "name": "stdout",
     "output_type": "stream",
     "text": [
      "Apple juice\n",
      "Mango juice\n",
      "Banana juice\n",
      "Peach juice\n"
     ]
    },
    {
     "data": {
      "text/plain": [
       "[None, None, None, None]"
      ]
     },
     "execution_count": 6,
     "metadata": {},
     "output_type": "execute_result"
    }
   ],
   "source": [
    "fruits = [\"Apple\", \"Mango\", \"Banana\", \"Peach\"]\n",
    "[print(fruit + \" juice\") for fruit in fruits]\n",
    "# for..in is encliosed with print() inside of [square brackets]\n",
    "# this is what makes a list comprehension"
   ]
  },
  {
   "cell_type": "code",
   "execution_count": 1,
   "id": "0b7b6e32",
   "metadata": {},
   "outputs": [
    {
     "name": "stdout",
     "output_type": "stream",
     "text": [
      "RNC submission\n",
      "Triangle submission\n",
      "Kimura submission\n",
      "Guillotine submission\n"
     ]
    },
    {
     "data": {
      "text/plain": [
       "[None, None, None, None]"
      ]
     },
     "execution_count": 1,
     "metadata": {},
     "output_type": "execute_result"
    }
   ],
   "source": [
    "bjj = [\"RNC\", \"Triangle\", \"Kimura\", \"Guillotine\"]\n",
    "[print(move + \" submission\") for move in bjj]"
   ]
  },
  {
   "cell_type": "markdown",
   "id": "ece5612c",
   "metadata": {},
   "source": [
    "# 3. A for Loop with range()\n",
    "\n",
    "- range() generates a sequence of integers from the provided starting and stopping indexes.\n",
    "\n",
    "- An index refers to the position of elements in a list.\n",
    "\n",
    "- The first item has an index of 0, the second list item is 1, and so on."
   ]
  },
  {
   "cell_type": "code",
   "execution_count": null,
   "id": "553d1dbe",
   "metadata": {},
   "outputs": [],
   "source": [
    "# syntax range function\n",
    "\n",
    "range(start, stop, step)\n",
    "\n",
    "# start and step arguments are optional\n",
    "# only the stop argument is required\n",
    "# step determines if you skip list items, default is 1 meaning no items is skipped\n",
    "# If you only specify one parameter (i.e. the stop index), the function constructs a range object containing all elements from 0 to stop-1."
   ]
  },
  {
   "cell_type": "code",
   "execution_count": 3,
   "id": "5a049a2f",
   "metadata": {},
   "outputs": [
    {
     "name": "stdout",
     "output_type": "stream",
     "text": [
      "The list at index 0 contains a Apple\n",
      "The list at index 1 contains a Mango\n",
      "The list at index 2 contains a Banana\n",
      "The list at index 3 contains a Peach\n"
     ]
    }
   ],
   "source": [
    "fruits = [\"Apple\", \"Mango\", \"Banana\", \"Peach\"]\n",
    " \n",
    "# Constructs range object containing elements from 0 to 3\n",
    "for i in range(len(fruits)):\n",
    "  print(\"The list at index\", i, \"contains a\", fruits[i])"
   ]
  },
  {
   "cell_type": "code",
   "execution_count": 14,
   "id": "6ef19c07",
   "metadata": {},
   "outputs": [
    {
     "name": "stdout",
     "output_type": "stream",
     "text": [
      "Mango\n",
      "Banana\n"
     ]
    }
   ],
   "source": [
    "fruits = [\"Apple\", \"Mango\", \"Banana\", \"Peach\"]\n",
    " \n",
    "# Constructs range object containing only 1 and 2\n",
    "for i in range(1, 3):\n",
    "  print(fruits[i])\n",
    "# index 3 is stopping point and index goes "
   ]
  },
  {
   "cell_type": "markdown",
   "id": "ae0b23c6",
   "metadata": {},
   "source": [
    "# 4. A for Loop with enumerate()\n",
    "\n",
    "- enumerate() shows the index of the element I am accessing"
   ]
  },
  {
   "cell_type": "code",
   "execution_count": 15,
   "id": "a1577e34",
   "metadata": {},
   "outputs": [
    {
     "name": "stdout",
     "output_type": "stream",
     "text": [
      "0 : Apple\n",
      "1 : Mango\n",
      "2 : Banana\n",
      "3 : Peach\n"
     ]
    }
   ],
   "source": [
    "fruits = [\"Apple\", \"Mango\", \"Banana\", \"Peach\"]\n",
    " \n",
    "for index, element in enumerate(fruits):\n",
    "  print(index, \":\", element)"
   ]
  },
  {
   "cell_type": "markdown",
   "id": "77dc1bb4",
   "metadata": {},
   "source": [
    "# 5. A for Loop with lambda\n",
    "\n",
    "- lambda function is an anonymous function in which a mathematical expression is evaluated and then returned.\n"
   ]
  },
  {
   "cell_type": "code",
   "execution_count": 1,
   "id": "9907fdca",
   "metadata": {},
   "outputs": [
    {
     "name": "stdout",
     "output_type": "stream",
     "text": [
      "[1, 4, 9, 16, 25]\n"
     ]
    }
   ],
   "source": [
    "lst1 = [1, 2, 3, 4, 5]\n",
    "lst2 = []\n",
    "  \n",
    "# Lambda function to square number\n",
    "temp = lambda i:i**2\n",
    " \n",
    "for i in lst1:\n",
    " \n",
    "    # Add to lst2\n",
    "    lst2.append(temp(i))\n",
    "   \n",
    "print(lst2)"
   ]
  },
  {
   "cell_type": "code",
   "execution_count": 4,
   "id": "4b443edb",
   "metadata": {},
   "outputs": [
    {
     "name": "stdout",
     "output_type": "stream",
     "text": [
      "[1, 4, 9, 16, 25]\n"
     ]
    }
   ],
   "source": [
    "lst1 = [1, 2, 3, 4, 5]\n",
    "   \n",
    "lst1 = list(map(lambda v: v ** 2, lst1))\n",
    "   \n",
    "print(lst1)\n",
    "# map() produces a map object (which is an iterator) of the results"
   ]
  },
  {
   "cell_type": "markdown",
   "id": "d07640fb",
   "metadata": {},
   "source": [
    "# 6. A while Loop\n",
    "\n",
    "- while loop executes until a certain condition is met\n",
    "\n",
    "- the while loop in Python is used to iterate over a block of code as long as the test expression (condition) is true.\n",
    "\n",
    "- In the code below, that condition is the length of the list; the i counter is set to zero, then it adds 1 every time the loop prints one item in the list. When i becomes greater than the number of items in the list, the while loop terminates.\n",
    "\n",
    "- code ensures that the condition i < len(fruits) will be satisfied after a certain number of iterations."
   ]
  },
  {
   "cell_type": "code",
   "execution_count": 7,
   "id": "e5588021",
   "metadata": {
    "scrolled": true
   },
   "outputs": [
    {
     "name": "stdout",
     "output_type": "stream",
     "text": [
      "Apple\n",
      "Mango\n",
      "Banana\n",
      "Peach\n"
     ]
    }
   ],
   "source": [
    "fruits = [\"Apple\", \"Mango\",  \"Banana\", \"Peach\"]\n",
    " \n",
    "i = 0\n",
    "while i < len(fruits):\n",
    "  print(fruits[i])\n",
    "  i = i + 1\n"
   ]
  },
  {
   "cell_type": "markdown",
   "id": "41c08e99",
   "metadata": {},
   "source": [
    "# 7. The NumPy Library\n",
    "\n",
    "- NumPy is the best way to loop through big lists.\n",
    "\n",
    "- NumPy reduces the overhead by making iteration more efficient. This is done by converting the lists into NumPy ARRAYS. "
   ]
  },
  {
   "cell_type": "code",
   "execution_count": 8,
   "id": "ec96bd59",
   "metadata": {},
   "outputs": [
    {
     "name": "stdout",
     "output_type": "stream",
     "text": [
      "1\n",
      "2\n",
      "3\n",
      "4\n",
      "5\n"
     ]
    }
   ],
   "source": [
    "import numpy as np\n",
    " \n",
    "nums = np.array([1, 2, 3, 4, 5])\n",
    " \n",
    "for num in nums:\n",
    "  print(num)"
   ]
  },
  {
   "cell_type": "code",
   "execution_count": null,
   "id": "6b31b660",
   "metadata": {},
   "outputs": [],
   "source": []
  }
 ],
 "metadata": {
  "kernelspec": {
   "display_name": "Python 3 (ipykernel)",
   "language": "python",
   "name": "python3"
  },
  "language_info": {
   "codemirror_mode": {
    "name": "ipython",
    "version": 3
   },
   "file_extension": ".py",
   "mimetype": "text/x-python",
   "name": "python",
   "nbconvert_exporter": "python",
   "pygments_lexer": "ipython3",
   "version": "3.9.12"
  }
 },
 "nbformat": 4,
 "nbformat_minor": 5
}
