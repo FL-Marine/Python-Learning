{
 "cells": [
  {
   "cell_type": "markdown",
   "id": "87a605ee",
   "metadata": {},
   "source": [
    "# What Is a For Loop in Python?\n",
    "\n",
    "- A for loop allows you to iterate over a sequence that can be either a list, a tuple, a set, a dictionary, or a string. You use it if you need to execute the same code for each item of a sequence.\n"
   ]
  },
  {
   "cell_type": "code",
   "execution_count": 1,
   "id": "d5559728",
   "metadata": {},
   "outputs": [
    {
     "name": "stdout",
     "output_type": "stream",
     "text": [
      "Great Britain\n",
      "Germany\n",
      "Italy\n"
     ]
    }
   ],
   "source": [
    "new_students_countries = ['Great Britain', 'Germany', 'Italy']\n",
    "for country in new_students_countries:\n",
    "    print(country)"
   ]
  },
  {
   "cell_type": "markdown",
   "id": "3a1c1051",
   "metadata": {},
   "source": [
    "# syntax of the *for* loop ^:\n",
    "\n",
    "1. It starts with the for keyword, followed by a value name that we assign to the item of the sequence (country in this case).\n",
    "\n",
    "2. Then, the in keyword is followed by the name of the sequence that we want to iterate.\n",
    "\n",
    "3. The initializer section ends with “:”.\n",
    "\n",
    "4. The body of the loop is indented and includes the code that we want to execute for each item of the sequence."
   ]
  },
  {
   "cell_type": "code",
   "execution_count": 4,
   "id": "6f762ac1",
   "metadata": {},
   "outputs": [
    {
     "name": "stdout",
     "output_type": "stream",
     "text": [
      "We have students from 2 new countries.\n"
     ]
    }
   ],
   "source": [
    "student_countries = ['Belgium', 'Czech Republic', 'France',\n",
    "                    'Germany', 'Hungary', 'Ireland',\n",
    "                    'Netherlands', 'Spain']\n",
    "new_countries = 0\n",
    "for country in new_students_countries:\n",
    "    if country not in student_countries:\n",
    "        new_countries += 1\n",
    "print('We have students from', new_countries, 'new countries.')\n"
   ]
  },
  {
   "cell_type": "markdown",
   "id": "d9f6e64e",
   "metadata": {},
   "source": [
    "# syntax of the *for* loop ^:\n",
    "\n",
    "1. start by initializing the variable new_countries with 0 value.\n",
    "\n",
    "2. iterate over the list new_students_countries, and check for each country in this list if it is in the list students_countries.\n",
    "\n",
    "3. if no new country in list it is a new country and increase new_countries by 1.\n",
    "\n",
    "4. Since there are three items in new_students_countries, the for loop runs three times.\n",
    "\n",
    "5. Already have students from Germany, Great Britain and Italy are new countries for the student community."
   ]
  },
  {
   "cell_type": "markdown",
   "id": "5830087c",
   "metadata": {},
   "source": [
    "# For Loops to Iterate Over Different Sequence Types\n",
    "\n",
    "- Sets are used to store multiple items in a single variable"
   ]
  },
  {
   "cell_type": "code",
   "execution_count": 14,
   "id": "bc1e8ac8",
   "metadata": {},
   "outputs": [
    {
     "name": "stdout",
     "output_type": "stream",
     "text": [
      "We have students from 2 new countries.\n"
     ]
    }
   ],
   "source": [
    "new_students_countries = {'Great Britain', 'Germany', 'Italy',\n",
    "'Italy'}\n",
    "new_countries = 0\n",
    "for country in new_students_countries:\n",
    "    if country not in student_countries:\n",
    "        new_countries += 1\n",
    "print('We have students from', new_countries, 'new countries.')"
   ]
  },
  {
   "cell_type": "markdown",
   "id": "27e37861",
   "metadata": {},
   "source": [
    "# syntax of the *for* loop ^:\n",
    "\n",
    "1. {sets are within curly brackets}\n",
    "\n",
    "2. There are 4 new students 2 come from Italy.\n",
    "\n",
    "3. This is counting several new students from several countries instead of counting multiple new countries."
   ]
  },
  {
   "cell_type": "markdown",
   "id": "3310383a",
   "metadata": {},
   "source": [
    " # For Loops and Tuples"
   ]
  },
  {
   "cell_type": "code",
   "execution_count": 1,
   "id": "8b604cb4",
   "metadata": {},
   "outputs": [
    {
     "name": "stdout",
     "output_type": "stream",
     "text": [
      "Where does Albert Bellamy come from?\n",
      "Where does Matty Brattin come from?\n",
      "Where does Abe Diaz come from?\n"
     ]
    }
   ],
   "source": [
    "new_students = ('Albert Bellamy', 'Matty Brattin', 'Abe Diaz')\n",
    "for name in new_students:\n",
    "    print('Where does', name, 'come from?')\n",
    "\n",
    "# interating over a tuple to ask where is the home country for each student"
   ]
  },
  {
   "cell_type": "markdown",
   "id": "ac22702c",
   "metadata": {},
   "source": [
    "# For Loops and Dictionaries"
   ]
  },
  {
   "cell_type": "code",
   "execution_count": 3,
   "id": "0d47e0df",
   "metadata": {},
   "outputs": [
    {
     "name": "stdout",
     "output_type": "stream",
     "text": [
      "Albert Bellamy is from Ohio.\n",
      "Matty Brattin is from California.\n",
      "Abe Diaz is from Florida.\n"
     ]
    }
   ],
   "source": [
    "new_student_state_dict = {'Albert Bellamy': 'Ohio',\n",
    "                         'Matty Brattin' : 'California',\n",
    "                         'Abe Diaz': 'Florida'}\n",
    "for key, value in new_student_state_dict.items():\n",
    "    print(key, ' is from ', value, '.', sep='')\n",
    "\n",
    "# Dictionaries are used to store data values in key:value pairs."
   ]
  },
  {
   "cell_type": "markdown",
   "id": "781d7838",
   "metadata": {},
   "source": [
    "# For Loops and Strings \n",
    "\n",
    "- strings are also sequences and can be iterated over using a for loop"
   ]
  },
  {
   "cell_type": "code",
   "execution_count": 1,
   "id": "a309b16b",
   "metadata": {},
   "outputs": [
    {
     "name": "stdout",
     "output_type": "stream",
     "text": [
      "True\n"
     ]
    }
   ],
   "source": [
    "uppercase = False\n",
    "password = \"i@mHappy\"\n",
    "for char in password:\n",
    "    if char.isupper():\n",
    "        uppercase = True\n",
    "print(uppercase)"
   ]
  },
  {
   "cell_type": "markdown",
   "id": "c9b41bc1",
   "metadata": {},
   "source": [
    "# syntax of the *for* loop ^:\n",
    "\n",
    "- initalized the variable uppercase as False\n",
    "\n",
    "- iterating over every (char) of the string password to check if it is uppercase\n",
    "\n",
    "- if condition is met the uppercase variable is set to True"
   ]
  },
  {
   "cell_type": "markdown",
   "id": "8c0e0297",
   "metadata": {},
   "source": [
    "# For Loops to Iterate Over a Range"
   ]
  },
  {
   "cell_type": "markdown",
   "id": "edd1a8be",
   "metadata": {},
   "source": [
    "## For Loops With range()\n",
    "\n",
    "- can use range() function to repeat something a certain number of times "
   ]
  },
  {
   "cell_type": "code",
   "execution_count": 3,
   "id": "1e3b7380",
   "metadata": {},
   "outputs": [
    {
     "name": "stdout",
     "output_type": "stream",
     "text": [
      "CxBhefpn\n"
     ]
    }
   ],
   "source": [
    "import random\n",
    "import string\n",
    "letters = string.ascii_letters\n",
    "password_new = ''\n",
    "for i in range(8):\n",
    "    password_new += random.choice(letters)\n",
    "print(password_new)\n",
    "\n",
    "# creating a password consisting of 8 random characters and merging into new string called password_new"
   ]
  },
  {
   "cell_type": "code",
   "execution_count": 5,
   "id": "64592037",
   "metadata": {},
   "outputs": [
    {
     "name": "stdout",
     "output_type": "stream",
     "text": [
      "4\n",
      "6\n",
      "8\n",
      "10\n"
     ]
    }
   ],
   "source": [
    "for i in range(4, 11, 2):\n",
    "    print(i)\n",
    "\n",
    "# range function also accepts start and step arguments \n",
    "\n",
    "# can defeind starting and ending numbers of the sequence along with difference between numbers\n",
    "\n",
    "# 4 is start, 11 is stop, 2 is step"
   ]
  },
  {
   "cell_type": "code",
   "execution_count": 8,
   "id": "40d03327",
   "metadata": {},
   "outputs": [
    {
     "name": "stdout",
     "output_type": "stream",
     "text": [
      "Adele gets the #1 result.\n",
      "James gets the #2 result.\n",
      "Leonardo gets the #3 result.\n"
     ]
    }
   ],
   "source": [
    "exam_rank = ['Adele', 'James', 'Leonardo']\n",
    "for i in range(len(exam_rank)):\n",
    "    print(exam_rank[i], ' gets the #', i+1, ' result.', sep='')\n",
    "\n",
    "# can use the range() function to access the iteration number within the body of the for loop"
   ]
  },
  {
   "cell_type": "markdown",
   "id": "b39a56e9",
   "metadata": {},
   "source": [
    "## For Loops With enumerate()\n",
    "\n",
    "- A “Pythonic” way to track the index value in the for loop requires using the enumerate() function. \n",
    "\n",
    "-  It allows you to iterate over lists and tuples while also accessing the index of each element in the body of the for loop"
   ]
  },
  {
   "cell_type": "code",
   "execution_count": 9,
   "id": "d0e61b4c",
   "metadata": {},
   "outputs": [
    {
     "name": "stdout",
     "output_type": "stream",
     "text": [
      "Adele gets the #1 result.\n",
      "James gets the #2 result.\n",
      "Leonardo gets the #3 result.\n"
     ]
    }
   ],
   "source": [
    "exam_rank = ['Adele', 'James', 'Leonardo']\n",
    "for place, student in enumerate(exam_rank, start = 1):\n",
    "    print(student, ' gets the #', place, ' result.', sep='')"
   ]
  },
  {
   "cell_type": "code",
   "execution_count": null,
   "id": "8340dfd7",
   "metadata": {},
   "outputs": [],
   "source": []
  }
 ],
 "metadata": {
  "kernelspec": {
   "display_name": "Python 3.9.12 ('av')",
   "language": "python",
   "name": "python3"
  },
  "language_info": {
   "codemirror_mode": {
    "name": "ipython",
    "version": 3
   },
   "file_extension": ".py",
   "mimetype": "text/x-python",
   "name": "python",
   "nbconvert_exporter": "python",
   "pygments_lexer": "ipython3",
   "version": "3.9.12"
  },
  "vscode": {
   "interpreter": {
    "hash": "7f478f5d20c05d5fa874342138bca14e82040ce952f70e0f47176b3ba9d1de8f"
   }
  }
 },
 "nbformat": 4,
 "nbformat_minor": 5
}
