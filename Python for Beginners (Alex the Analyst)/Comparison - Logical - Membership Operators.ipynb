{
 "cells": [
  {
   "cell_type": "markdown",
   "id": "e20fe96c",
   "metadata": {},
   "source": [
    "# Comparision Operators\n"
   ]
  },
  {
   "cell_type": "code",
   "execution_count": 1,
   "id": "1e5f007f",
   "metadata": {},
   "outputs": [],
   "source": [
    "# == Equal\n",
    "# != Not Equal\n",
    "# > Greater than\n",
    "# < Less than \n",
    "# >= Greater than or equal to\n",
    "# <= Less than or equal to"
   ]
  },
  {
   "cell_type": "code",
   "execution_count": 4,
   "id": "2f683112",
   "metadata": {},
   "outputs": [
    {
     "data": {
      "text/plain": [
       "False"
      ]
     },
     "execution_count": 4,
     "metadata": {},
     "output_type": "execute_result"
    }
   ],
   "source": [
    "10 == 50"
   ]
  },
  {
   "cell_type": "code",
   "execution_count": 5,
   "id": "97842f0e",
   "metadata": {},
   "outputs": [
    {
     "data": {
      "text/plain": [
       "True"
      ]
     },
     "execution_count": 5,
     "metadata": {},
     "output_type": "execute_result"
    }
   ],
   "source": [
    "10 != 50"
   ]
  },
  {
   "cell_type": "code",
   "execution_count": 6,
   "id": "01c81995",
   "metadata": {},
   "outputs": [
    {
     "data": {
      "text/plain": [
       "False"
      ]
     },
     "execution_count": 6,
     "metadata": {},
     "output_type": "execute_result"
    }
   ],
   "source": [
    "'Vanilla' == 'Chocolate'"
   ]
  },
  {
   "cell_type": "code",
   "execution_count": 8,
   "id": "9e32a9bb",
   "metadata": {},
   "outputs": [
    {
     "data": {
      "text/plain": [
       "True"
      ]
     },
     "execution_count": 8,
     "metadata": {},
     "output_type": "execute_result"
    }
   ],
   "source": [
    "x = 'Vanilla'\n",
    "y = 'Chocolate'\n",
    "\n",
    "x != y"
   ]
  },
  {
   "cell_type": "code",
   "execution_count": 10,
   "id": "45e2f9a8",
   "metadata": {},
   "outputs": [
    {
     "data": {
      "text/plain": [
       "True"
      ]
     },
     "execution_count": 10,
     "metadata": {},
     "output_type": "execute_result"
    }
   ],
   "source": [
    "10 <= 10"
   ]
  },
  {
   "cell_type": "code",
   "execution_count": 12,
   "id": "d2236878",
   "metadata": {},
   "outputs": [
    {
     "data": {
      "text/plain": [
       "True"
      ]
     },
     "execution_count": 12,
     "metadata": {},
     "output_type": "execute_result"
    }
   ],
   "source": [
    "50 >= 10"
   ]
  },
  {
   "cell_type": "markdown",
   "id": "b7b3970c",
   "metadata": {},
   "source": [
    "# Logical Operators"
   ]
  },
  {
   "cell_type": "code",
   "execution_count": 13,
   "id": "534f24c7",
   "metadata": {},
   "outputs": [],
   "source": [
    "# and - Returns True if both statements are true\n",
    "\n",
    "# or -  Returns True if one of the statements is true\n",
    "\n",
    "# not - Reverse the result, returns False if the result is true"
   ]
  },
  {
   "cell_type": "code",
   "execution_count": 16,
   "id": "178ef773",
   "metadata": {},
   "outputs": [
    {
     "data": {
      "text/plain": [
       "False"
      ]
     },
     "execution_count": 16,
     "metadata": {},
     "output_type": "execute_result"
    }
   ],
   "source": [
    "(10 > 50) and (50 > 10)\n",
    "\n",
    "# both need to be True in order to return True result"
   ]
  },
  {
   "cell_type": "code",
   "execution_count": 17,
   "id": "bffa9651",
   "metadata": {},
   "outputs": [
    {
     "data": {
      "text/plain": [
       "True"
      ]
     },
     "execution_count": 17,
     "metadata": {},
     "output_type": "execute_result"
    }
   ],
   "source": [
    "(70 > 50) and (50 > 10)"
   ]
  },
  {
   "cell_type": "code",
   "execution_count": 19,
   "id": "6e62d3cd",
   "metadata": {},
   "outputs": [
    {
     "data": {
      "text/plain": [
       "True"
      ]
     },
     "execution_count": 19,
     "metadata": {},
     "output_type": "execute_result"
    }
   ],
   "source": [
    "(10 > 50) or (50 > 10)\n",
    "\n",
    "# if one of statements is True then so will the output"
   ]
  },
  {
   "cell_type": "code",
   "execution_count": 20,
   "id": "e412f48e",
   "metadata": {},
   "outputs": [
    {
     "data": {
      "text/plain": [
       "True"
      ]
     },
     "execution_count": 20,
     "metadata": {},
     "output_type": "execute_result"
    }
   ],
   "source": [
    "('Vanilla' > 'Chocolate') or (50 > 10)"
   ]
  },
  {
   "cell_type": "code",
   "execution_count": 22,
   "id": "43ba0989",
   "metadata": {},
   "outputs": [
    {
     "data": {
      "text/plain": [
       "True"
      ]
     },
     "execution_count": 22,
     "metadata": {},
     "output_type": "execute_result"
    }
   ],
   "source": [
    "('Vanilla' > 'Chocolate') and (50 > 10)\n",
    "\n",
    "# both are true because V is higher letter in alphabet then C"
   ]
  },
  {
   "cell_type": "code",
   "execution_count": 23,
   "id": "995aee49",
   "metadata": {},
   "outputs": [
    {
     "data": {
      "text/plain": [
       "False"
      ]
     },
     "execution_count": 23,
     "metadata": {},
     "output_type": "execute_result"
    }
   ],
   "source": [
    "not(50 > 10)"
   ]
  },
  {
   "cell_type": "markdown",
   "id": "f42d08f0",
   "metadata": {},
   "source": [
    "# Membership Operators"
   ]
  },
  {
   "cell_type": "code",
   "execution_count": null,
   "id": "a0626404",
   "metadata": {},
   "outputs": [],
   "source": [
    "# in - Returns True if a sequence with the specified value is present in the object\n",
    "\n",
    "# not in - Returns True if a sequence with the specified value is not present in the object"
   ]
  },
  {
   "cell_type": "code",
   "execution_count": 25,
   "id": "89b66e54",
   "metadata": {},
   "outputs": [
    {
     "data": {
      "text/plain": [
       "True"
      ]
     },
     "execution_count": 25,
     "metadata": {},
     "output_type": "execute_result"
    }
   ],
   "source": [
    "ice_cream = 'I love Chocolate ice cream'\n",
    "\n",
    "'love' in ice_cream\n",
    "\n",
    "# searching if 'love' is in the string"
   ]
  },
  {
   "cell_type": "code",
   "execution_count": 30,
   "id": "c01806ac",
   "metadata": {},
   "outputs": [
    {
     "data": {
      "text/plain": [
       "True"
      ]
     },
     "execution_count": 30,
     "metadata": {},
     "output_type": "execute_result"
    }
   ],
   "source": [
    "scoops = [1,2,3,4,5]\n",
    "wanted_scoops = 8\n",
    "\n",
    "wanted_scoops not in scoops"
   ]
  }
 ],
 "metadata": {
  "kernelspec": {
   "display_name": "Python 3 (ipykernel)",
   "language": "python",
   "name": "python3"
  },
  "language_info": {
   "codemirror_mode": {
    "name": "ipython",
    "version": 3
   },
   "file_extension": ".py",
   "mimetype": "text/x-python",
   "name": "python",
   "nbconvert_exporter": "python",
   "pygments_lexer": "ipython3",
   "version": "3.9.12"
  }
 },
 "nbformat": 4,
 "nbformat_minor": 5
}
